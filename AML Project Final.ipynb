{
 "cells": [
  {
   "cell_type": "code",
   "execution_count": 2,
   "metadata": {},
   "outputs": [],
   "source": [
    "import numpy as np\n",
    "import pandas as pd\n",
    "from pyod.models import iforest, ocsvm, cblof\n",
    "from matplotlib import pyplot as plt\n",
    "from matplotlib.backends import backend_pdf\n",
    "from pyod import models\n",
    "from sklearn import preprocessing, decomposition, metrics, ensemble, svm, cluster, linear_model\n",
    "from itertools import count\n",
    "import collections\n",
    "import glob\n",
    "import rpy2.robjects as robjects\n",
    "from collections import OrderedDict\n",
    "import datetime as dt\n",
    "import time\n",
    "import tweepy\n",
    "import csv\n",
    "import collections\n",
    "import random\n",
    "from collections import Counter\n",
    "import string\n",
    "import re\n",
    "from wordcloud import WordCloud, STOPWORDS "
   ]
  },
  {
   "cell_type": "markdown",
   "metadata": {},
   "source": [
    "## Feature Engineering"
   ]
  },
  {
   "cell_type": "code",
   "execution_count": 2,
   "metadata": {},
   "outputs": [],
   "source": [
    "def feature_engineering(filename):\n",
    "    '''\n",
    "    This function takes in the filename and splits the time component into hours, day of the week, and is it a weekday or not. \n",
    "    \n",
    "    Args:\n",
    "    -----\n",
    "    filename : String\n",
    "    \n",
    "    Returns:\n",
    "    --------\n",
    "    df : pandas.DataFrame\n",
    "    '''\n",
    "    df = pd.read_csv(filename)\n",
    "    df['datetime'] = pd.to_datetime(df['timestamps'] * (10**9))\n",
    "    df = df[['value', 'anomaly', 'datetime', 'timestamps']]\n",
    "\n",
    "    df['datetime'] = pd.to_datetime(df['datetime'])\n",
    "    df['hours'] = df['datetime'].dt.hour\n",
    "    df['day'] = df['datetime'].dt.dayofweek\n",
    "    df['isweekday'] = (df['day'] < 5).astype(int)\n",
    "    return df\n",
    "\n"
   ]
  },
  {
   "cell_type": "markdown",
   "metadata": {},
   "source": [
    "## Helper function"
   ]
  },
  {
   "cell_type": "code",
   "execution_count": 3,
   "metadata": {},
   "outputs": [],
   "source": [
    "random.seed(100)\n",
    "outliers_fraction = 0.01\n",
    "\n",
    "def plot_data(dataframe, anomaly, title):\n",
    "    '''\n",
    "    This function takes in the two dataframe and creates a plot for timeseries with anomaly. \n",
    "    \n",
    "    Args:\n",
    "    -----\n",
    "    dataframe : pandas.DataFrame\n",
    "    anomaly : pandas.DataFrame\n",
    "    title : String\n",
    "    \n",
    "    '''\n",
    "        \n",
    "\n",
    "    dataframe = dataframe.sort_values(by = 'timestamps')\n",
    "    plt.plot(dataframe['timestamps'], dataframe['value'], color='blue')\n",
    "    plt.scatter(anomaly['timestamps'],anomaly['value'], color='red')\n",
    "    plt.title(title)\n",
    "\n",
    "\n",
    "\n",
    "def standardize(dataframe):\n",
    "    \n",
    "    '''\n",
    "    This function takes in a dataframe and performs preprocessing using scaling. \n",
    "    \n",
    "    Args:\n",
    "    -----\n",
    "    dataframe : pandas.DataFrame\n",
    "    \n",
    "    Returns:\n",
    "    --------\n",
    "    df : pandas.DataFrame\n",
    "    '''\n",
    "    \n",
    "    dataframe = dataframe[['value', 'hours', 'day', 'isweekday']]\n",
    "    trans_scalar = preprocessing.StandardScaler()\n",
    "    data_scaled = trans_scalar.fit_transform(dataframe)\n",
    "    data = pd.DataFrame(data_scaled)\n",
    "\n",
    "    return data\n",
    "\n",
    "def detrend(dataframe):\n",
    "    \n",
    "    '''\n",
    "    This function takes in dataframe and removes the trend in value column. \n",
    "    \n",
    "    Args:\n",
    "    -----\n",
    "    dataframe : pandas.DataFrame\n",
    "    \n",
    "    Returns:\n",
    "    --------\n",
    "    dataframe : pandas.DataFrame\n",
    "    '''\n",
    "    \n",
    "    dataframe.index.name = 'Label'\n",
    "    dataframe.reset_index(inplace = True)\n",
    "    lm = linear_model.LinearRegression()\n",
    "    X = dataframe['Label']\n",
    "    y = dataframe['value']\n",
    "    X = X.values\n",
    "    X = X.reshape(-1,1)\n",
    "    model = lm.fit(X,y)\n",
    "    trend_val = float(lm.coef_)\n",
    "    dataframe['value'] = dataframe['value'] - round(trend_val, 0) * dataframe['Label']\n",
    "    dataframe.drop(['Label'], axis = 1)\n",
    "    return(dataframe)\n",
    "\n"
   ]
  },
  {
   "cell_type": "markdown",
   "metadata": {},
   "source": [
    "## Models"
   ]
  },
  {
   "cell_type": "markdown",
   "metadata": {},
   "source": [
    "### Mean Plus Standard Deviation - Baseline"
   ]
  },
  {
   "cell_type": "code",
   "execution_count": 4,
   "metadata": {},
   "outputs": [],
   "source": [
    "def mean_plus_standev(dataframe):\n",
    "    \n",
    "    '''\n",
    "    This function takes in dataframe and identifies anomaly using mean + standard deviaton method. It adds a new column \n",
    "    called \"mean_plus_standev\" to our input dataframe that flags anomaly as 1. Also returns an anomaly dataframe, which is\n",
    "    a subset of input dataframe when \"mean_plus_standev\" is 1.\n",
    "    \n",
    "    Args:\n",
    "    -----\n",
    "    dataframe : pandas.DataFrame\n",
    "    \n",
    "    Returns:\n",
    "    --------\n",
    "    dataframe : pandas.DataFrame\n",
    "    anomaly : pandas.DataFrame\n",
    "    '''\n",
    "     \n",
    "    sigma = 3\n",
    "    anomalies = []\n",
    "    y = dataframe[\"value\"]\n",
    "    upper_bound = y.mean() + sigma*y.std()\n",
    "    lower_bound = y.mean() - sigma*y.std()\n",
    "\n",
    "    anomalies = []\n",
    "    for i in y.values:\n",
    "        if i > upper_bound or i < lower_bound:\n",
    "            anomalies.append(i)\n",
    "            \n",
    "    dataframe[\"mean_plus_standev\"] = 0\n",
    "    for i in range(len(data[\"value\"])):\n",
    "        \n",
    "        if dataframe.value[i] in anomalies:\n",
    "            dataframe.loc[i,\"mean_plus_standev\"] = 1\n",
    "            \n",
    "    \n",
    "    anomaly = dataframe.loc[dataframe['mean_plus_standev'] == 1, ['timestamps', 'value']]\n",
    "    \n",
    "    return dataframe, anomaly"
   ]
  },
  {
   "cell_type": "markdown",
   "metadata": {},
   "source": [
    "### Moving Average "
   ]
  },
  {
   "cell_type": "code",
   "execution_count": 5,
   "metadata": {},
   "outputs": [],
   "source": [
    "def moving_average(data, window_size):\n",
    "    \n",
    "    '''\n",
    "    This function takes in dataframe and a window size and returns a list.\n",
    "    \n",
    "    Args:\n",
    "    -----\n",
    "    data : pandas.DataFrame\n",
    "    window_size : Integer\n",
    "    \n",
    "    Returns:\n",
    "    --------\n",
    "    convolution : List\n",
    "    '''\n",
    "\n",
    "    data = data\n",
    "    window = window_size\n",
    "    output = []\n",
    "    for i in range(window):\n",
    "        output.append(data[:i+1])\n",
    "\n",
    "    for i in range(1,len(data)):\n",
    "   \n",
    "        output.append(data[i:i+window])\n",
    "    \n",
    "\n",
    "    convolution = [sum(i)/window for i in output]\n",
    "    extra = window-1\n",
    "\n",
    "    if (extra)%2 == 0:\n",
    "        half = int(extra/2)\n",
    "        return(convolution[half:len(output)-half])\n",
    "    \n",
    "    else:\n",
    "        first_half = int(extra//2)\n",
    "        second_half = extra-first_half\n",
    "        return(convolution[first_half:len(output)-second_half])"
   ]
  },
  {
   "cell_type": "code",
   "execution_count": 6,
   "metadata": {},
   "outputs": [],
   "source": [
    "def moving_avg(dataframe):\n",
    "    '''\n",
    "    This function takes in dataframe and identifies anomaly using moving average method. It adds a new column \n",
    "    called \"moving_avg\" to our input dataframe that flags anomaly as 1. Also returns an anomaly dataframe, which is\n",
    "    a subset of input dataframe when \"moving_avg\" is 1.\n",
    "    \n",
    "    Args:\n",
    "    -----\n",
    "    dataframe : pandas.DataFrame\n",
    "    \n",
    "    Returns:\n",
    "    --------\n",
    "    dataframe : pandas.DataFrame\n",
    "    anomaly : pandas.DataFrame\n",
    "    '''\n",
    "    window_size = 10\n",
    "    sigma = 3\n",
    "    y = dataframe[\"value\"]\n",
    "\n",
    "    avg = moving_average(y, window_size)\n",
    "\n",
    "    std = np.std(y)    \n",
    "    anomalies = []\n",
    "    \n",
    "    for y_i,mean_i in zip(y,avg):       \n",
    "        \n",
    "        upper_bound = mean_i + (sigma*std)\n",
    "        lower_bound = mean_i - (sigma*std)\n",
    "        \n",
    "        if (y_i > upper_bound) or (y_i < lower_bound): \n",
    "\n",
    "            anomalies.append(y_i)\n",
    "            \n",
    "    dataframe[\"moving_avg\"] = 0\n",
    "    \n",
    "    for i in range(len(dataframe[\"value\"])):\n",
    "        if dataframe.value[i] in anomalies:\n",
    "            dataframe.loc[i,\"moving_avg\"] = 1\n",
    "    \n",
    "    anomaly = dataframe.loc[dataframe['moving_avg'] == 1, ['timestamps', 'value']]\n",
    "    return dataframe, anomaly"
   ]
  },
  {
   "cell_type": "markdown",
   "metadata": {},
   "source": [
    "### Moving Average and Rolling Standard Deviation "
   ]
  },
  {
   "cell_type": "code",
   "execution_count": 7,
   "metadata": {},
   "outputs": [],
   "source": [
    "def moving_avg_rolling_std(dataframe):\n",
    "    \n",
    "    '''\n",
    "    This function takes in dataframe and identifies anomaly using moving average rolling standard deviation method. It adds a new column \n",
    "    called \"moving_avg_rolling_std\" to our input dataframe that flags anomaly as 1. Also returns an anomaly dataframe, which is\n",
    "    a subset of input dataframe when \"moving_avg_rolling_std\" is 1.\n",
    "    \n",
    "    Args:\n",
    "    -----\n",
    "    dataframe : pandas.DataFrame\n",
    "    \n",
    "    Returns:\n",
    "    --------\n",
    "    dataframe : pandas.DataFrame\n",
    "    anomaly : pandas.DataFrame\n",
    "    '''\n",
    "    \n",
    "    window_size = 10\n",
    "    sigma = 2\n",
    "    y = dataframe[\"value\"]\n",
    "    avg = moving_average(y, window_size)\n",
    "    s = pd.DataFrame(y)\n",
    "    \n",
    "    rolling_stdev = s.rolling(window_size).std()    \n",
    "    rolling_stdev_as_df = pd.DataFrame(rolling_stdev)\n",
    "\n",
    "    temp = rolling_stdev_as_df.replace(np.nan,rolling_stdev_as_df.iloc[window_size - 1])\n",
    "    #print(temp)\n",
    "    rolling_stdev = list(temp.iloc[:,0])   \n",
    "    anomalies = []\n",
    "    \n",
    "    for data_i, rolling_mean_i, rolling_std_i in zip(y, avg, rolling_stdev):\n",
    "        \n",
    "        upper_bound = rolling_mean_i + (sigma * rolling_std_i)\n",
    "        lower_bound = rolling_mean_i - (sigma * rolling_std_i)\n",
    "        \n",
    "        if (data_i > upper_bound) | (data_i < lower_bound):\n",
    "            \n",
    "            anomalies.append(data_i)\n",
    "\n",
    "    dataframe[\"moving_avg_rolling_std\"] = 0\n",
    "    for i in range(len(dataframe[\"value\"])):\n",
    "        if dataframe.value[i] in anomalies:\n",
    "            dataframe.loc[i,\"moving_avg_rolling_std\"] = 1\n",
    "    \n",
    "    \n",
    "    anomaly = dataframe.loc[dataframe['moving_avg_rolling_std'] == 1, ['timestamps', 'value']]\n",
    "    return dataframe, anomaly"
   ]
  },
  {
   "cell_type": "markdown",
   "metadata": {},
   "source": [
    "### K Means "
   ]
  },
  {
   "cell_type": "code",
   "execution_count": 8,
   "metadata": {},
   "outputs": [],
   "source": [
    "def get_distance(data, model):\n",
    "    \n",
    "    '''\n",
    "    An helper function to calculate distance to the cluster center for K Means.\n",
    "    \n",
    "    Args:\n",
    "    -----\n",
    "    data : pandas.DataFrame\n",
    "    \n",
    "    Returns:\n",
    "    --------\n",
    "    distance : pd.Series()\n",
    "    '''\n",
    "    \n",
    "    distance = pd.Series()\n",
    "    \n",
    "    for i in range(0,len(data)):\n",
    "\n",
    "        distance.at[i] = np.linalg.norm(np.array(data.loc[i]) - model.cluster_centers_[model.labels_[i]-1])\n",
    "    \n",
    "    return distance\n",
    "\n",
    "def kmeans(dataframe):\n",
    "    \n",
    "    '''\n",
    "    This function takes in dataframe and identifies anomaly using K means clustering method. It adds a new column \n",
    "    called \"kmeans\" to our input dataframe that flags anomaly as 1. Also returns an anomaly dataframe, which is\n",
    "    a subset of input dataframe when \"kmeans\" is 1.\n",
    "    \n",
    "    Args:\n",
    "    -----\n",
    "    dataframe : pandas.DataFrame\n",
    "    \n",
    "    Returns:\n",
    "    --------\n",
    "    dataframe : pandas.DataFrame\n",
    "    anomaly : pandas.DataFrame\n",
    "    '''\n",
    "      \n",
    "    data = standardize(dataframe)\n",
    "    \n",
    "    data = pd.DataFrame(data)\n",
    "\n",
    "    \n",
    "    distance = get_distance(data, cluster.KMeans(n_clusters = 4, random_state = 20).fit(data))\n",
    "    number_of_outliers = int(outliers_fraction * len(distance))\n",
    "    threshold = distance.nlargest(number_of_outliers).min()\n",
    "    \n",
    "    dataframe['kmeans'] = (distance >= threshold).astype(int)\n",
    "    \n",
    "    anomaly = dataframe.loc[dataframe['kmeans'] == 1, ['timestamps', 'value']] \n",
    "    \n",
    "    return dataframe, anomaly\n",
    "\n",
    "\n"
   ]
  },
  {
   "cell_type": "markdown",
   "metadata": {},
   "source": [
    "### Isolation Forest "
   ]
  },
  {
   "cell_type": "code",
   "execution_count": 9,
   "metadata": {},
   "outputs": [],
   "source": [
    "def isolation_forest(dataframe):\n",
    "    \n",
    "    '''\n",
    "    This function takes in dataframe and identifies anomaly using Isolation Forest method. It adds a new column \n",
    "    called \"isolation_forest\" to our input dataframe that flags anomaly as 1. Also returns an anomaly dataframe, which is\n",
    "    a subset of input dataframe when \"isolation_forest\" is 1.\n",
    "    \n",
    "    Args:\n",
    "    -----\n",
    "    dataframe : pandas.DataFrame\n",
    "    \n",
    "    Returns:\n",
    "    --------\n",
    "    dataframe : pandas.DataFrame\n",
    "    anomaly : pandas.DataFrame\n",
    "    '''\n",
    "   \n",
    "    data = standardize(dataframe)\n",
    "    \n",
    "    model =  ensemble.IsolationForest(contamination = outliers_fraction)\n",
    "    model.fit(data)\n",
    " \n",
    "    dataframe['isolation_forest'] = pd.Series(model.predict(data))\n",
    "    dataframe['isolation_forest'] = dataframe['isolation_forest'].map( {1: 0, -1: 1} )\n",
    "    \n",
    "    anomaly = dataframe.loc[dataframe['isolation_forest'] == 1, ['timestamps', 'value']]\n",
    "    return dataframe, anomaly\n"
   ]
  },
  {
   "cell_type": "markdown",
   "metadata": {},
   "source": [
    "### One Class SVM "
   ]
  },
  {
   "cell_type": "code",
   "execution_count": 10,
   "metadata": {},
   "outputs": [],
   "source": [
    "def one_class_svm(dataframe):\n",
    "    \n",
    "    '''\n",
    "    This function takes in dataframe and identifies anomaly using One Class SVM method. It adds a new column \n",
    "    called \"isolation_forest_pyod\" to our input dataframe that flags anomaly as 1. Also returns an anomaly dataframe, which is\n",
    "    a subset of input dataframe when \"isolation_forest_pyod\" is 1.\n",
    "    \n",
    "    Args:\n",
    "    -----\n",
    "    dataframe : pandas.DataFrame\n",
    "    \n",
    "    Returns:\n",
    "    --------\n",
    "    dataframe : pandas.DataFrame\n",
    "    anomaly : pandas.DataFrame\n",
    "    '''\n",
    "   \n",
    "    data = standardize(dataframe)\n",
    "    \n",
    "    model =  svm.OneClassSVM() \n",
    "    model.fit(data)\n",
    "\n",
    "    prob = model.decision_function(data)\n",
    "    dataframe['dist'] = prob.reshape(prob.shape[0],)\n",
    "    \n",
    "    dataframe['one_class_svm'] = 0\n",
    "    \n",
    "    threshold = np.percentile(dataframe['dist'], outliers_fraction * 100)\n",
    "\n",
    "    dataframe.loc[dataframe['dist'] < threshold, 'one_class_svm'] = 1 \n",
    "\n",
    "\n",
    "    dataframe.drop(['dist'], axis = 1)\n",
    "    \n",
    "\n",
    "    \n",
    "    anomaly = dataframe.loc[dataframe['one_class_svm'] == 1, ['timestamps', 'value']]\n",
    "    return dataframe, anomaly\n",
    "\n"
   ]
  },
  {
   "cell_type": "markdown",
   "metadata": {},
   "source": [
    "### Max Voting"
   ]
  },
  {
   "cell_type": "code",
   "execution_count": 12,
   "metadata": {},
   "outputs": [],
   "source": [
    "def max_voting(dataframe):\n",
    "    '''\n",
    "    This function takes in dataframe and identifies anomaly using max voting method on the output of K Means, Isolation Forest,\n",
    "    and One Class SVM. It adds a new column called \"max_voting\" to our input dataframe that flags anomaly as 1. \n",
    "    Also returns an anomaly dataframe, which is a subset of input dataframe when \"max_voting\" is 1.\n",
    "    \n",
    "    Args:\n",
    "    -----\n",
    "    dataframe : pandas.DataFrame\n",
    "    \n",
    "    Returns:\n",
    "    --------\n",
    "    dataframe : pandas.DataFrame\n",
    "    anomaly : pandas.DataFrame\n",
    "    '''\n",
    "    \n",
    "    treshold = 2\n",
    "    dataframe['max_voting'] = dataframe['kmeans'] + dataframe['isolation_forest'] + dataframe['one_class_svm'] +dataframe['moving_avg_rolling_std']\n",
    "    dataframe['max_voting'] = np.where(dataframe['max_voting'] >= treshold, 1, 0)\n",
    "\n",
    "    anomaly = dataframe.loc[dataframe['max_voting'] == 1, ['timestamps', 'value']]\n",
    "    return dataframe, anomaly\n"
   ]
  },
  {
   "cell_type": "markdown",
   "metadata": {},
   "source": [
    "### Implementation in Yahoo Dataset "
   ]
  },
  {
   "cell_type": "code",
   "execution_count": 13,
   "metadata": {
    "scrolled": true
   },
   "outputs": [
    {
     "name": "stdout",
     "output_type": "stream",
     "text": [
      "A1Benchmark\\TS1.csv\n",
      "{'File': 'TS1.csv', 'Method': 'mean_plus_standev', 'TN': 1669, 'FP': 0, 'FN': 6, 'TP': 5, 'Precision': 1.0, 'Recall': 0.455, 'F1': 0.625}\n",
      "{'File': 'TS1.csv', 'Method': 'kmeans', 'TN': 1661, 'FP': 8, 'FN': 3, 'TP': 8, 'Precision': 0.5, 'Recall': 0.727, 'F1': 0.593}\n",
      "{'File': 'TS1.csv', 'Method': 'moving_avg', 'TN': 1669, 'FP': 0, 'FN': 7, 'TP': 4, 'Precision': 1.0, 'Recall': 0.364, 'F1': 0.533}\n",
      "{'File': 'TS1.csv', 'Method': 'moving_avg_rolling_std', 'TN': 1667, 'FP': 2, 'FN': 3, 'TP': 8, 'Precision': 0.8, 'Recall': 0.727, 'F1': 0.762}\n",
      "{'File': 'TS1.csv', 'Method': 'isolation_forest', 'TN': 1659, 'FP': 10, 'FN': 4, 'TP': 7, 'Precision': 0.412, 'Recall': 0.636, 'F1': 0.5}\n",
      "{'File': 'TS1.csv', 'Method': 'one_class_svm', 'TN': 1662, 'FP': 7, 'FN': 1, 'TP': 10, 'Precision': 0.588, 'Recall': 0.909, 'F1': 0.714}\n",
      "{'File': 'TS1.csv', 'Method': 'max_voting', 'TN': 1661, 'FP': 8, 'FN': 2, 'TP': 9, 'Precision': 0.529, 'Recall': 0.818, 'F1': 0.643}\n",
      "A1Benchmark\\TS10.csv\n",
      "{'File': 'TS10.csv', 'Method': 'mean_plus_standev', 'TN': 1664, 'FP': 0, 'FN': 4, 'TP': 12, 'Precision': 1.0, 'Recall': 0.75, 'F1': 0.857}\n",
      "{'File': 'TS10.csv', 'Method': 'kmeans', 'TN': 1661, 'FP': 3, 'FN': 3, 'TP': 13, 'Precision': 0.812, 'Recall': 0.812, 'F1': 0.812}\n",
      "{'File': 'TS10.csv', 'Method': 'moving_avg', 'TN': 1664, 'FP': 0, 'FN': 6, 'TP': 10, 'Precision': 1.0, 'Recall': 0.625, 'F1': 0.769}\n",
      "{'File': 'TS10.csv', 'Method': 'moving_avg_rolling_std', 'TN': 1664, 'FP': 0, 'FN': 2, 'TP': 14, 'Precision': 1.0, 'Recall': 0.875, 'F1': 0.933}\n",
      "{'File': 'TS10.csv', 'Method': 'isolation_forest', 'TN': 1659, 'FP': 5, 'FN': 3, 'TP': 13, 'Precision': 0.722, 'Recall': 0.812, 'F1': 0.765}\n",
      "{'File': 'TS10.csv', 'Method': 'one_class_svm', 'TN': 1663, 'FP': 1, 'FN': 0, 'TP': 16, 'Precision': 0.941, 'Recall': 1.0, 'F1': 0.97}\n",
      "{'File': 'TS10.csv', 'Method': 'max_voting', 'TN': 1664, 'FP': 0, 'FN': 1, 'TP': 15, 'Precision': 1.0, 'Recall': 0.938, 'F1': 0.968}\n",
      "A1Benchmark\\TS11.csv\n",
      "{'File': 'TS11.csv', 'Method': 'mean_plus_standev', 'TN': 1668, 'FP': 0, 'FN': 7, 'TP': 5, 'Precision': 1.0, 'Recall': 0.417, 'F1': 0.588}\n",
      "{'File': 'TS11.csv', 'Method': 'kmeans', 'TN': 1661, 'FP': 7, 'FN': 3, 'TP': 9, 'Precision': 0.562, 'Recall': 0.75, 'F1': 0.643}\n",
      "{'File': 'TS11.csv', 'Method': 'moving_avg', 'TN': 1668, 'FP': 0, 'FN': 9, 'TP': 3, 'Precision': 1.0, 'Recall': 0.25, 'F1': 0.4}\n",
      "{'File': 'TS11.csv', 'Method': 'moving_avg_rolling_std', 'TN': 1668, 'FP': 0, 'FN': 2, 'TP': 10, 'Precision': 1.0, 'Recall': 0.833, 'F1': 0.909}\n",
      "{'File': 'TS11.csv', 'Method': 'isolation_forest', 'TN': 1662, 'FP': 6, 'FN': 1, 'TP': 11, 'Precision': 0.647, 'Recall': 0.917, 'F1': 0.759}\n",
      "{'File': 'TS11.csv', 'Method': 'one_class_svm', 'TN': 1663, 'FP': 5, 'FN': 0, 'TP': 12, 'Precision': 0.706, 'Recall': 1.0, 'F1': 0.828}\n",
      "{'File': 'TS11.csv', 'Method': 'max_voting', 'TN': 1667, 'FP': 1, 'FN': 1, 'TP': 11, 'Precision': 0.917, 'Recall': 0.917, 'F1': 0.917}\n",
      "A1Benchmark\\TS12.csv\n",
      "{'File': 'TS12.csv', 'Method': 'mean_plus_standev', 'TN': 1665, 'FP': 0, 'FN': 10, 'TP': 5, 'Precision': 1.0, 'Recall': 0.333, 'F1': 0.5}\n",
      "{'File': 'TS12.csv', 'Method': 'kmeans', 'TN': 1656, 'FP': 9, 'FN': 8, 'TP': 7, 'Precision': 0.438, 'Recall': 0.467, 'F1': 0.452}\n",
      "{'File': 'TS12.csv', 'Method': 'moving_avg', 'TN': 1665, 'FP': 0, 'FN': 14, 'TP': 1, 'Precision': 1.0, 'Recall': 0.067, 'F1': 0.125}\n",
      "{'File': 'TS12.csv', 'Method': 'moving_avg_rolling_std', 'TN': 1657, 'FP': 8, 'FN': 11, 'TP': 4, 'Precision': 0.333, 'Recall': 0.267, 'F1': 0.296}\n",
      "{'File': 'TS12.csv', 'Method': 'isolation_forest', 'TN': 1659, 'FP': 6, 'FN': 4, 'TP': 11, 'Precision': 0.647, 'Recall': 0.733, 'F1': 0.688}\n",
      "{'File': 'TS12.csv', 'Method': 'one_class_svm', 'TN': 1660, 'FP': 5, 'FN': 3, 'TP': 12, 'Precision': 0.706, 'Recall': 0.8, 'F1': 0.75}\n",
      "{'File': 'TS12.csv', 'Method': 'max_voting', 'TN': 1663, 'FP': 2, 'FN': 3, 'TP': 12, 'Precision': 0.857, 'Recall': 0.8, 'F1': 0.828}\n",
      "A1Benchmark\\TS13.csv\n",
      "{'File': 'TS13.csv', 'Method': 'mean_plus_standev', 'TN': 1678, 'FP': 0, 'FN': 1, 'TP': 1, 'Precision': 1.0, 'Recall': 0.5, 'F1': 0.667}\n",
      "{'File': 'TS13.csv', 'Method': 'kmeans', 'TN': 1663, 'FP': 15, 'FN': 1, 'TP': 1, 'Precision': 0.062, 'Recall': 0.5, 'F1': 0.111}\n",
      "{'File': 'TS13.csv', 'Method': 'moving_avg', 'TN': 1678, 'FP': 0, 'FN': 1, 'TP': 1, 'Precision': 1.0, 'Recall': 0.5, 'F1': 0.667}\n",
      "{'File': 'TS13.csv', 'Method': 'moving_avg_rolling_std', 'TN': 1678, 'FP': 0, 'FN': 0, 'TP': 2, 'Precision': 1.0, 'Recall': 1.0, 'F1': 1.0}\n",
      "{'File': 'TS13.csv', 'Method': 'isolation_forest', 'TN': 1662, 'FP': 16, 'FN': 1, 'TP': 1, 'Precision': 0.059, 'Recall': 0.5, 'F1': 0.105}\n",
      "{'File': 'TS13.csv', 'Method': 'one_class_svm', 'TN': 1663, 'FP': 15, 'FN': 0, 'TP': 2, 'Precision': 0.118, 'Recall': 1.0, 'F1': 0.211}\n",
      "{'File': 'TS13.csv', 'Method': 'max_voting', 'TN': 1673, 'FP': 5, 'FN': 0, 'TP': 2, 'Precision': 0.286, 'Recall': 1.0, 'F1': 0.444}\n",
      "A1Benchmark\\TS14.csv\n",
      "{'File': 'TS14.csv', 'Method': 'mean_plus_standev', 'TN': 1669, 'FP': 0, 'FN': 8, 'TP': 3, 'Precision': 1.0, 'Recall': 0.273, 'F1': 0.429}\n",
      "{'File': 'TS14.csv', 'Method': 'kmeans', 'TN': 1657, 'FP': 12, 'FN': 7, 'TP': 4, 'Precision': 0.25, 'Recall': 0.364, 'F1': 0.296}\n"
     ]
    },
    {
     "name": "stderr",
     "output_type": "stream",
     "text": [
      "D:\\Users\\Gopal\\Anaconda3\\lib\\site-packages\\sklearn\\metrics\\classification.py:1135: UndefinedMetricWarning: Precision is ill-defined and being set to 0.0 due to no predicted samples.\n",
      "  'precision', 'predicted', average, warn_for)\n",
      "D:\\Users\\Gopal\\Anaconda3\\lib\\site-packages\\sklearn\\metrics\\classification.py:1135: UndefinedMetricWarning: F-score is ill-defined and being set to 0.0 due to no predicted samples.\n",
      "  'precision', 'predicted', average, warn_for)\n"
     ]
    },
    {
     "name": "stdout",
     "output_type": "stream",
     "text": [
      "{'File': 'TS14.csv', 'Method': 'moving_avg', 'TN': 1669, 'FP': 0, 'FN': 11, 'TP': 0, 'Precision': 0.0, 'Recall': 0.0, 'F1': 0.0}\n",
      "{'File': 'TS14.csv', 'Method': 'moving_avg_rolling_std', 'TN': 1669, 'FP': 0, 'FN': 5, 'TP': 6, 'Precision': 1.0, 'Recall': 0.545, 'F1': 0.706}\n",
      "{'File': 'TS14.csv', 'Method': 'isolation_forest', 'TN': 1656, 'FP': 13, 'FN': 7, 'TP': 4, 'Precision': 0.235, 'Recall': 0.364, 'F1': 0.286}\n",
      "{'File': 'TS14.csv', 'Method': 'one_class_svm', 'TN': 1659, 'FP': 10, 'FN': 4, 'TP': 7, 'Precision': 0.412, 'Recall': 0.636, 'F1': 0.5}\n",
      "{'File': 'TS14.csv', 'Method': 'max_voting', 'TN': 1669, 'FP': 0, 'FN': 4, 'TP': 7, 'Precision': 1.0, 'Recall': 0.636, 'F1': 0.778}\n",
      "A1Benchmark\\TS15.csv\n",
      "{'File': 'TS15.csv', 'Method': 'mean_plus_standev', 'TN': 1676, 'FP': 0, 'FN': 3, 'TP': 1, 'Precision': 1.0, 'Recall': 0.25, 'F1': 0.4}\n",
      "{'File': 'TS15.csv', 'Method': 'kmeans', 'TN': 1661, 'FP': 15, 'FN': 3, 'TP': 1, 'Precision': 0.062, 'Recall': 0.25, 'F1': 0.1}\n",
      "{'File': 'TS15.csv', 'Method': 'moving_avg', 'TN': 1676, 'FP': 0, 'FN': 3, 'TP': 1, 'Precision': 1.0, 'Recall': 0.25, 'F1': 0.4}\n",
      "{'File': 'TS15.csv', 'Method': 'moving_avg_rolling_std', 'TN': 1671, 'FP': 5, 'FN': 1, 'TP': 3, 'Precision': 0.375, 'Recall': 0.75, 'F1': 0.5}\n",
      "{'File': 'TS15.csv', 'Method': 'isolation_forest', 'TN': 1662, 'FP': 14, 'FN': 1, 'TP': 3, 'Precision': 0.176, 'Recall': 0.75, 'F1': 0.286}\n",
      "{'File': 'TS15.csv', 'Method': 'one_class_svm', 'TN': 1663, 'FP': 13, 'FN': 0, 'TP': 4, 'Precision': 0.235, 'Recall': 1.0, 'F1': 0.381}\n",
      "{'File': 'TS15.csv', 'Method': 'max_voting', 'TN': 1666, 'FP': 10, 'FN': 1, 'TP': 3, 'Precision': 0.231, 'Recall': 0.75, 'F1': 0.353}\n",
      "A1Benchmark\\TS16.csv\n",
      "{'File': 'TS16.csv', 'Method': 'mean_plus_standev', 'TN': 1674, 'FP': 0, 'FN': 4, 'TP': 2, 'Precision': 1.0, 'Recall': 0.333, 'F1': 0.5}\n",
      "{'File': 'TS16.csv', 'Method': 'kmeans', 'TN': 1660, 'FP': 14, 'FN': 4, 'TP': 2, 'Precision': 0.125, 'Recall': 0.333, 'F1': 0.182}\n",
      "{'File': 'TS16.csv', 'Method': 'moving_avg', 'TN': 1674, 'FP': 0, 'FN': 5, 'TP': 1, 'Precision': 1.0, 'Recall': 0.167, 'F1': 0.286}\n",
      "{'File': 'TS16.csv', 'Method': 'moving_avg_rolling_std', 'TN': 1674, 'FP': 0, 'FN': 1, 'TP': 5, 'Precision': 1.0, 'Recall': 0.833, 'F1': 0.909}\n",
      "{'File': 'TS16.csv', 'Method': 'isolation_forest', 'TN': 1659, 'FP': 15, 'FN': 4, 'TP': 2, 'Precision': 0.118, 'Recall': 0.333, 'F1': 0.174}\n",
      "{'File': 'TS16.csv', 'Method': 'one_class_svm', 'TN': 1662, 'FP': 12, 'FN': 1, 'TP': 5, 'Precision': 0.294, 'Recall': 0.833, 'F1': 0.435}\n",
      "{'File': 'TS16.csv', 'Method': 'max_voting', 'TN': 1672, 'FP': 2, 'FN': 1, 'TP': 5, 'Precision': 0.714, 'Recall': 0.833, 'F1': 0.769}\n",
      "A1Benchmark\\TS17.csv\n",
      "{'File': 'TS17.csv', 'Method': 'mean_plus_standev', 'TN': 1672, 'FP': 0, 'FN': 3, 'TP': 5, 'Precision': 1.0, 'Recall': 0.625, 'F1': 0.769}\n",
      "{'File': 'TS17.csv', 'Method': 'kmeans', 'TN': 1658, 'FP': 14, 'FN': 6, 'TP': 2, 'Precision': 0.125, 'Recall': 0.25, 'F1': 0.167}\n",
      "{'File': 'TS17.csv', 'Method': 'moving_avg', 'TN': 1672, 'FP': 0, 'FN': 6, 'TP': 2, 'Precision': 1.0, 'Recall': 0.25, 'F1': 0.4}\n",
      "{'File': 'TS17.csv', 'Method': 'moving_avg_rolling_std', 'TN': 1670, 'FP': 2, 'FN': 2, 'TP': 6, 'Precision': 0.75, 'Recall': 0.75, 'F1': 0.75}\n",
      "{'File': 'TS17.csv', 'Method': 'isolation_forest', 'TN': 1661, 'FP': 11, 'FN': 2, 'TP': 6, 'Precision': 0.353, 'Recall': 0.75, 'F1': 0.48}\n",
      "{'File': 'TS17.csv', 'Method': 'one_class_svm', 'TN': 1661, 'FP': 11, 'FN': 2, 'TP': 6, 'Precision': 0.353, 'Recall': 0.75, 'F1': 0.48}\n",
      "{'File': 'TS17.csv', 'Method': 'max_voting', 'TN': 1663, 'FP': 9, 'FN': 2, 'TP': 6, 'Precision': 0.4, 'Recall': 0.75, 'F1': 0.522}\n",
      "A1Benchmark\\TS18.csv\n",
      "{'File': 'TS18.csv', 'Method': 'mean_plus_standev', 'TN': 1666, 'FP': 0, 'FN': 13, 'TP': 1, 'Precision': 1.0, 'Recall': 0.071, 'F1': 0.133}\n",
      "{'File': 'TS18.csv', 'Method': 'kmeans', 'TN': 1655, 'FP': 11, 'FN': 9, 'TP': 5, 'Precision': 0.312, 'Recall': 0.357, 'F1': 0.333}\n",
      "{'File': 'TS18.csv', 'Method': 'moving_avg', 'TN': 1666, 'FP': 0, 'FN': 13, 'TP': 1, 'Precision': 1.0, 'Recall': 0.071, 'F1': 0.133}\n",
      "{'File': 'TS18.csv', 'Method': 'moving_avg_rolling_std', 'TN': 1658, 'FP': 8, 'FN': 5, 'TP': 9, 'Precision': 0.529, 'Recall': 0.643, 'F1': 0.581}\n",
      "{'File': 'TS18.csv', 'Method': 'isolation_forest', 'TN': 1656, 'FP': 10, 'FN': 7, 'TP': 7, 'Precision': 0.412, 'Recall': 0.5, 'F1': 0.452}\n",
      "{'File': 'TS18.csv', 'Method': 'one_class_svm', 'TN': 1659, 'FP': 7, 'FN': 4, 'TP': 10, 'Precision': 0.588, 'Recall': 0.714, 'F1': 0.645}\n",
      "{'File': 'TS18.csv', 'Method': 'max_voting', 'TN': 1664, 'FP': 2, 'FN': 5, 'TP': 9, 'Precision': 0.818, 'Recall': 0.643, 'F1': 0.72}\n",
      "A1Benchmark\\TS19.csv\n",
      "{'File': 'TS19.csv', 'Method': 'mean_plus_standev', 'TN': 1672, 'FP': 0, 'FN': 5, 'TP': 3, 'Precision': 1.0, 'Recall': 0.375, 'F1': 0.545}\n",
      "{'File': 'TS19.csv', 'Method': 'kmeans', 'TN': 1659, 'FP': 13, 'FN': 5, 'TP': 3, 'Precision': 0.188, 'Recall': 0.375, 'F1': 0.25}\n",
      "{'File': 'TS19.csv', 'Method': 'moving_avg', 'TN': 1672, 'FP': 0, 'FN': 6, 'TP': 2, 'Precision': 1.0, 'Recall': 0.25, 'F1': 0.4}\n",
      "{'File': 'TS19.csv', 'Method': 'moving_avg_rolling_std', 'TN': 1659, 'FP': 13, 'FN': 3, 'TP': 5, 'Precision': 0.278, 'Recall': 0.625, 'F1': 0.385}\n",
      "{'File': 'TS19.csv', 'Method': 'isolation_forest', 'TN': 1660, 'FP': 12, 'FN': 3, 'TP': 5, 'Precision': 0.294, 'Recall': 0.625, 'F1': 0.4}\n",
      "{'File': 'TS19.csv', 'Method': 'one_class_svm', 'TN': 1663, 'FP': 9, 'FN': 0, 'TP': 8, 'Precision': 0.471, 'Recall': 1.0, 'F1': 0.64}\n",
      "{'File': 'TS19.csv', 'Method': 'max_voting', 'TN': 1664, 'FP': 8, 'FN': 3, 'TP': 5, 'Precision': 0.385, 'Recall': 0.625, 'F1': 0.476}\n",
      "A1Benchmark\\TS2.csv\n",
      "{'File': 'TS2.csv', 'Method': 'mean_plus_standev', 'TN': 1670, 'FP': 0, 'FN': 6, 'TP': 4, 'Precision': 1.0, 'Recall': 0.4, 'F1': 0.571}\n",
      "{'File': 'TS2.csv', 'Method': 'kmeans', 'TN': 1656, 'FP': 14, 'FN': 8, 'TP': 2, 'Precision': 0.125, 'Recall': 0.2, 'F1': 0.154}\n",
      "{'File': 'TS2.csv', 'Method': 'moving_avg', 'TN': 1670, 'FP': 0, 'FN': 5, 'TP': 5, 'Precision': 1.0, 'Recall': 0.5, 'F1': 0.667}\n",
      "{'File': 'TS2.csv', 'Method': 'moving_avg_rolling_std', 'TN': 1663, 'FP': 7, 'FN': 5, 'TP': 5, 'Precision': 0.417, 'Recall': 0.5, 'F1': 0.455}\n",
      "{'File': 'TS2.csv', 'Method': 'isolation_forest', 'TN': 1658, 'FP': 12, 'FN': 5, 'TP': 5, 'Precision': 0.294, 'Recall': 0.5, 'F1': 0.37}\n",
      "{'File': 'TS2.csv', 'Method': 'one_class_svm', 'TN': 1661, 'FP': 9, 'FN': 2, 'TP': 8, 'Precision': 0.471, 'Recall': 0.8, 'F1': 0.593}\n",
      "{'File': 'TS2.csv', 'Method': 'max_voting', 'TN': 1667, 'FP': 3, 'FN': 4, 'TP': 6, 'Precision': 0.667, 'Recall': 0.6, 'F1': 0.632}\n",
      "A1Benchmark\\TS20.csv\n",
      "{'File': 'TS20.csv', 'Method': 'mean_plus_standev', 'TN': 1677, 'FP': 0, 'FN': 1, 'TP': 2, 'Precision': 1.0, 'Recall': 0.667, 'F1': 0.8}\n",
      "{'File': 'TS20.csv', 'Method': 'kmeans', 'TN': 1662, 'FP': 15, 'FN': 2, 'TP': 1, 'Precision': 0.062, 'Recall': 0.333, 'F1': 0.105}\n",
      "{'File': 'TS20.csv', 'Method': 'moving_avg', 'TN': 1677, 'FP': 0, 'FN': 2, 'TP': 1, 'Precision': 1.0, 'Recall': 0.333, 'F1': 0.5}\n",
      "{'File': 'TS20.csv', 'Method': 'moving_avg_rolling_std', 'TN': 1674, 'FP': 3, 'FN': 1, 'TP': 2, 'Precision': 0.4, 'Recall': 0.667, 'F1': 0.5}\n",
      "{'File': 'TS20.csv', 'Method': 'isolation_forest', 'TN': 1663, 'FP': 14, 'FN': 0, 'TP': 3, 'Precision': 0.176, 'Recall': 1.0, 'F1': 0.3}\n",
      "{'File': 'TS20.csv', 'Method': 'one_class_svm', 'TN': 1663, 'FP': 14, 'FN': 0, 'TP': 3, 'Precision': 0.176, 'Recall': 1.0, 'F1': 0.3}\n",
      "{'File': 'TS20.csv', 'Method': 'max_voting', 'TN': 1672, 'FP': 5, 'FN': 0, 'TP': 3, 'Precision': 0.375, 'Recall': 1.0, 'F1': 0.545}\n",
      "A1Benchmark\\TS21.csv\n"
     ]
    },
    {
     "name": "stderr",
     "output_type": "stream",
     "text": [
      "D:\\Users\\Gopal\\Anaconda3\\lib\\site-packages\\sklearn\\metrics\\classification.py:1135: UndefinedMetricWarning: Precision is ill-defined and being set to 0.0 due to no predicted samples.\n",
      "  'precision', 'predicted', average, warn_for)\n",
      "D:\\Users\\Gopal\\Anaconda3\\lib\\site-packages\\sklearn\\metrics\\classification.py:1135: UndefinedMetricWarning: F-score is ill-defined and being set to 0.0 due to no predicted samples.\n",
      "  'precision', 'predicted', average, warn_for)\n"
     ]
    },
    {
     "name": "stdout",
     "output_type": "stream",
     "text": [
      "{'File': 'TS21.csv', 'Method': 'mean_plus_standev', 'TN': 1676, 'FP': 0, 'FN': 4, 'TP': 0, 'Precision': 0.0, 'Recall': 0.0, 'F1': 0.0}\n",
      "{'File': 'TS21.csv', 'Method': 'kmeans', 'TN': 1661, 'FP': 15, 'FN': 3, 'TP': 1, 'Precision': 0.062, 'Recall': 0.25, 'F1': 0.1}\n",
      "{'File': 'TS21.csv', 'Method': 'moving_avg', 'TN': 1676, 'FP': 0, 'FN': 4, 'TP': 0, 'Precision': 0.0, 'Recall': 0.0, 'F1': 0.0}\n",
      "{'File': 'TS21.csv', 'Method': 'moving_avg_rolling_std', 'TN': 1676, 'FP': 0, 'FN': 2, 'TP': 2, 'Precision': 1.0, 'Recall': 0.5, 'F1': 0.667}\n",
      "{'File': 'TS21.csv', 'Method': 'isolation_forest', 'TN': 1661, 'FP': 15, 'FN': 2, 'TP': 2, 'Precision': 0.118, 'Recall': 0.5, 'F1': 0.19}\n",
      "{'File': 'TS21.csv', 'Method': 'one_class_svm', 'TN': 1663, 'FP': 13, 'FN': 0, 'TP': 4, 'Precision': 0.235, 'Recall': 1.0, 'F1': 0.381}\n",
      "{'File': 'TS21.csv', 'Method': 'max_voting', 'TN': 1669, 'FP': 7, 'FN': 1, 'TP': 3, 'Precision': 0.3, 'Recall': 0.75, 'F1': 0.429}\n",
      "A1Benchmark\\TS22.csv\n",
      "{'File': 'TS22.csv', 'Method': 'mean_plus_standev', 'TN': 1670, 'FP': 0, 'FN': 6, 'TP': 4, 'Precision': 1.0, 'Recall': 0.4, 'F1': 0.571}\n",
      "{'File': 'TS22.csv', 'Method': 'kmeans', 'TN': 1657, 'FP': 13, 'FN': 7, 'TP': 3, 'Precision': 0.188, 'Recall': 0.3, 'F1': 0.231}\n",
      "{'File': 'TS22.csv', 'Method': 'moving_avg', 'TN': 1670, 'FP': 0, 'FN': 6, 'TP': 4, 'Precision': 1.0, 'Recall': 0.4, 'F1': 0.571}\n",
      "{'File': 'TS22.csv', 'Method': 'moving_avg_rolling_std', 'TN': 1665, 'FP': 5, 'FN': 3, 'TP': 7, 'Precision': 0.583, 'Recall': 0.7, 'F1': 0.636}\n",
      "{'File': 'TS22.csv', 'Method': 'isolation_forest', 'TN': 1658, 'FP': 12, 'FN': 5, 'TP': 5, 'Precision': 0.294, 'Recall': 0.5, 'F1': 0.37}\n",
      "{'File': 'TS22.csv', 'Method': 'one_class_svm', 'TN': 1662, 'FP': 8, 'FN': 1, 'TP': 9, 'Precision': 0.529, 'Recall': 0.9, 'F1': 0.667}\n",
      "{'File': 'TS22.csv', 'Method': 'max_voting', 'TN': 1662, 'FP': 8, 'FN': 2, 'TP': 8, 'Precision': 0.5, 'Recall': 0.8, 'F1': 0.615}\n",
      "A1Benchmark\\TS23.csv\n",
      "{'File': 'TS23.csv', 'Method': 'mean_plus_standev', 'TN': 1668, 'FP': 0, 'FN': 10, 'TP': 2, 'Precision': 1.0, 'Recall': 0.167, 'F1': 0.286}\n",
      "{'File': 'TS23.csv', 'Method': 'kmeans', 'TN': 1658, 'FP': 10, 'FN': 6, 'TP': 6, 'Precision': 0.375, 'Recall': 0.5, 'F1': 0.429}\n"
     ]
    },
    {
     "name": "stderr",
     "output_type": "stream",
     "text": [
      "D:\\Users\\Gopal\\Anaconda3\\lib\\site-packages\\sklearn\\metrics\\classification.py:1135: UndefinedMetricWarning: Precision is ill-defined and being set to 0.0 due to no predicted samples.\n",
      "  'precision', 'predicted', average, warn_for)\n",
      "D:\\Users\\Gopal\\Anaconda3\\lib\\site-packages\\sklearn\\metrics\\classification.py:1135: UndefinedMetricWarning: F-score is ill-defined and being set to 0.0 due to no predicted samples.\n",
      "  'precision', 'predicted', average, warn_for)\n"
     ]
    },
    {
     "name": "stdout",
     "output_type": "stream",
     "text": [
      "{'File': 'TS23.csv', 'Method': 'moving_avg', 'TN': 1668, 'FP': 0, 'FN': 12, 'TP': 0, 'Precision': 0.0, 'Recall': 0.0, 'F1': 0.0}\n",
      "{'File': 'TS23.csv', 'Method': 'moving_avg_rolling_std', 'TN': 1657, 'FP': 11, 'FN': 5, 'TP': 7, 'Precision': 0.389, 'Recall': 0.583, 'F1': 0.467}\n",
      "{'File': 'TS23.csv', 'Method': 'isolation_forest', 'TN': 1660, 'FP': 8, 'FN': 3, 'TP': 9, 'Precision': 0.529, 'Recall': 0.75, 'F1': 0.621}\n",
      "{'File': 'TS23.csv', 'Method': 'one_class_svm', 'TN': 1659, 'FP': 9, 'FN': 4, 'TP': 8, 'Precision': 0.471, 'Recall': 0.667, 'F1': 0.552}\n",
      "{'File': 'TS23.csv', 'Method': 'max_voting', 'TN': 1662, 'FP': 6, 'FN': 4, 'TP': 8, 'Precision': 0.571, 'Recall': 0.667, 'F1': 0.615}\n",
      "A1Benchmark\\TS24.csv\n",
      "{'File': 'TS24.csv', 'Method': 'mean_plus_standev', 'TN': 1670, 'FP': 0, 'FN': 3, 'TP': 7, 'Precision': 1.0, 'Recall': 0.7, 'F1': 0.824}\n",
      "{'File': 'TS24.csv', 'Method': 'kmeans', 'TN': 1661, 'FP': 9, 'FN': 3, 'TP': 7, 'Precision': 0.438, 'Recall': 0.7, 'F1': 0.538}\n",
      "{'File': 'TS24.csv', 'Method': 'moving_avg', 'TN': 1670, 'FP': 0, 'FN': 7, 'TP': 3, 'Precision': 1.0, 'Recall': 0.3, 'F1': 0.462}\n",
      "{'File': 'TS24.csv', 'Method': 'moving_avg_rolling_std', 'TN': 1656, 'FP': 14, 'FN': 6, 'TP': 4, 'Precision': 0.222, 'Recall': 0.4, 'F1': 0.286}\n",
      "{'File': 'TS24.csv', 'Method': 'isolation_forest', 'TN': 1659, 'FP': 11, 'FN': 4, 'TP': 6, 'Precision': 0.353, 'Recall': 0.6, 'F1': 0.444}\n",
      "{'File': 'TS24.csv', 'Method': 'one_class_svm', 'TN': 1662, 'FP': 8, 'FN': 1, 'TP': 9, 'Precision': 0.529, 'Recall': 0.9, 'F1': 0.667}\n",
      "{'File': 'TS24.csv', 'Method': 'max_voting', 'TN': 1662, 'FP': 8, 'FN': 2, 'TP': 8, 'Precision': 0.5, 'Recall': 0.8, 'F1': 0.615}\n",
      "A1Benchmark\\TS25.csv\n",
      "{'File': 'TS25.csv', 'Method': 'mean_plus_standev', 'TN': 1664, 'FP': 0, 'FN': 13, 'TP': 3, 'Precision': 1.0, 'Recall': 0.188, 'F1': 0.316}\n",
      "{'File': 'TS25.csv', 'Method': 'kmeans', 'TN': 1649, 'FP': 15, 'FN': 15, 'TP': 1, 'Precision': 0.062, 'Recall': 0.062, 'F1': 0.062}\n"
     ]
    },
    {
     "name": "stderr",
     "output_type": "stream",
     "text": [
      "D:\\Users\\Gopal\\Anaconda3\\lib\\site-packages\\sklearn\\metrics\\classification.py:1135: UndefinedMetricWarning: Precision is ill-defined and being set to 0.0 due to no predicted samples.\n",
      "  'precision', 'predicted', average, warn_for)\n",
      "D:\\Users\\Gopal\\Anaconda3\\lib\\site-packages\\sklearn\\metrics\\classification.py:1135: UndefinedMetricWarning: F-score is ill-defined and being set to 0.0 due to no predicted samples.\n",
      "  'precision', 'predicted', average, warn_for)\n"
     ]
    },
    {
     "name": "stdout",
     "output_type": "stream",
     "text": [
      "{'File': 'TS25.csv', 'Method': 'moving_avg', 'TN': 1664, 'FP': 0, 'FN': 16, 'TP': 0, 'Precision': 0.0, 'Recall': 0.0, 'F1': 0.0}\n",
      "{'File': 'TS25.csv', 'Method': 'moving_avg_rolling_std', 'TN': 1664, 'FP': 0, 'FN': 13, 'TP': 3, 'Precision': 1.0, 'Recall': 0.188, 'F1': 0.316}\n",
      "{'File': 'TS25.csv', 'Method': 'isolation_forest', 'TN': 1652, 'FP': 12, 'FN': 11, 'TP': 5, 'Precision': 0.294, 'Recall': 0.312, 'F1': 0.303}\n",
      "{'File': 'TS25.csv', 'Method': 'one_class_svm', 'TN': 1660, 'FP': 4, 'FN': 3, 'TP': 13, 'Precision': 0.765, 'Recall': 0.812, 'F1': 0.788}\n",
      "{'File': 'TS25.csv', 'Method': 'max_voting', 'TN': 1657, 'FP': 7, 'FN': 10, 'TP': 6, 'Precision': 0.462, 'Recall': 0.375, 'F1': 0.414}\n",
      "A1Benchmark\\TS26.csv\n",
      "{'File': 'TS26.csv', 'Method': 'mean_plus_standev', 'TN': 1664, 'FP': 0, 'FN': 11, 'TP': 5, 'Precision': 1.0, 'Recall': 0.312, 'F1': 0.476}\n",
      "{'File': 'TS26.csv', 'Method': 'kmeans', 'TN': 1654, 'FP': 10, 'FN': 10, 'TP': 6, 'Precision': 0.375, 'Recall': 0.375, 'F1': 0.375}\n",
      "{'File': 'TS26.csv', 'Method': 'moving_avg', 'TN': 1664, 'FP': 0, 'FN': 15, 'TP': 1, 'Precision': 1.0, 'Recall': 0.062, 'F1': 0.118}\n",
      "{'File': 'TS26.csv', 'Method': 'moving_avg_rolling_std', 'TN': 1663, 'FP': 1, 'FN': 9, 'TP': 7, 'Precision': 0.875, 'Recall': 0.438, 'F1': 0.583}\n",
      "{'File': 'TS26.csv', 'Method': 'isolation_forest', 'TN': 1655, 'FP': 9, 'FN': 8, 'TP': 8, 'Precision': 0.471, 'Recall': 0.5, 'F1': 0.485}\n",
      "{'File': 'TS26.csv', 'Method': 'one_class_svm', 'TN': 1658, 'FP': 6, 'FN': 5, 'TP': 11, 'Precision': 0.647, 'Recall': 0.688, 'F1': 0.667}\n",
      "{'File': 'TS26.csv', 'Method': 'max_voting', 'TN': 1662, 'FP': 2, 'FN': 8, 'TP': 8, 'Precision': 0.8, 'Recall': 0.5, 'F1': 0.615}\n",
      "A1Benchmark\\TS27.csv\n",
      "{'File': 'TS27.csv', 'Method': 'mean_plus_standev', 'TN': 1675, 'FP': 0, 'FN': 3, 'TP': 2, 'Precision': 1.0, 'Recall': 0.4, 'F1': 0.571}\n",
      "{'File': 'TS27.csv', 'Method': 'kmeans', 'TN': 1661, 'FP': 14, 'FN': 3, 'TP': 2, 'Precision': 0.125, 'Recall': 0.4, 'F1': 0.19}\n"
     ]
    },
    {
     "name": "stderr",
     "output_type": "stream",
     "text": [
      "D:\\Users\\Gopal\\Anaconda3\\lib\\site-packages\\sklearn\\metrics\\classification.py:1135: UndefinedMetricWarning: Precision is ill-defined and being set to 0.0 due to no predicted samples.\n",
      "  'precision', 'predicted', average, warn_for)\n",
      "D:\\Users\\Gopal\\Anaconda3\\lib\\site-packages\\sklearn\\metrics\\classification.py:1135: UndefinedMetricWarning: F-score is ill-defined and being set to 0.0 due to no predicted samples.\n",
      "  'precision', 'predicted', average, warn_for)\n"
     ]
    },
    {
     "name": "stdout",
     "output_type": "stream",
     "text": [
      "{'File': 'TS27.csv', 'Method': 'moving_avg', 'TN': 1675, 'FP': 0, 'FN': 5, 'TP': 0, 'Precision': 0.0, 'Recall': 0.0, 'F1': 0.0}\n",
      "{'File': 'TS27.csv', 'Method': 'moving_avg_rolling_std', 'TN': 1664, 'FP': 11, 'FN': 1, 'TP': 4, 'Precision': 0.267, 'Recall': 0.8, 'F1': 0.4}\n",
      "{'File': 'TS27.csv', 'Method': 'isolation_forest', 'TN': 1660, 'FP': 15, 'FN': 3, 'TP': 2, 'Precision': 0.118, 'Recall': 0.4, 'F1': 0.182}\n",
      "{'File': 'TS27.csv', 'Method': 'one_class_svm', 'TN': 1662, 'FP': 13, 'FN': 1, 'TP': 4, 'Precision': 0.235, 'Recall': 0.8, 'F1': 0.364}\n",
      "{'File': 'TS27.csv', 'Method': 'max_voting', 'TN': 1666, 'FP': 9, 'FN': 1, 'TP': 4, 'Precision': 0.308, 'Recall': 0.8, 'F1': 0.444}\n",
      "A1Benchmark\\TS28.csv\n",
      "{'File': 'TS28.csv', 'Method': 'mean_plus_standev', 'TN': 1677, 'FP': 0, 'FN': 2, 'TP': 1, 'Precision': 1.0, 'Recall': 0.333, 'F1': 0.5}\n",
      "{'File': 'TS28.csv', 'Method': 'kmeans', 'TN': 1664, 'FP': 13, 'FN': 0, 'TP': 3, 'Precision': 0.188, 'Recall': 1.0, 'F1': 0.316}\n"
     ]
    },
    {
     "name": "stderr",
     "output_type": "stream",
     "text": [
      "D:\\Users\\Gopal\\Anaconda3\\lib\\site-packages\\sklearn\\metrics\\classification.py:1135: UndefinedMetricWarning: Precision is ill-defined and being set to 0.0 due to no predicted samples.\n",
      "  'precision', 'predicted', average, warn_for)\n",
      "D:\\Users\\Gopal\\Anaconda3\\lib\\site-packages\\sklearn\\metrics\\classification.py:1135: UndefinedMetricWarning: F-score is ill-defined and being set to 0.0 due to no predicted samples.\n",
      "  'precision', 'predicted', average, warn_for)\n"
     ]
    },
    {
     "name": "stdout",
     "output_type": "stream",
     "text": [
      "{'File': 'TS28.csv', 'Method': 'moving_avg', 'TN': 1677, 'FP': 0, 'FN': 3, 'TP': 0, 'Precision': 0.0, 'Recall': 0.0, 'F1': 0.0}\n",
      "{'File': 'TS28.csv', 'Method': 'moving_avg_rolling_std', 'TN': 1676, 'FP': 1, 'FN': 2, 'TP': 1, 'Precision': 0.5, 'Recall': 0.333, 'F1': 0.4}\n",
      "{'File': 'TS28.csv', 'Method': 'isolation_forest', 'TN': 1663, 'FP': 14, 'FN': 0, 'TP': 3, 'Precision': 0.176, 'Recall': 1.0, 'F1': 0.3}\n",
      "{'File': 'TS28.csv', 'Method': 'one_class_svm', 'TN': 1663, 'FP': 14, 'FN': 0, 'TP': 3, 'Precision': 0.176, 'Recall': 1.0, 'F1': 0.3}\n",
      "{'File': 'TS28.csv', 'Method': 'max_voting', 'TN': 1671, 'FP': 6, 'FN': 0, 'TP': 3, 'Precision': 0.333, 'Recall': 1.0, 'F1': 0.5}\n",
      "A1Benchmark\\TS29.csv\n",
      "{'File': 'TS29.csv', 'Method': 'mean_plus_standev', 'TN': 1665, 'FP': 0, 'FN': 8, 'TP': 7, 'Precision': 1.0, 'Recall': 0.467, 'F1': 0.636}\n",
      "{'File': 'TS29.csv', 'Method': 'kmeans', 'TN': 1655, 'FP': 10, 'FN': 9, 'TP': 6, 'Precision': 0.375, 'Recall': 0.4, 'F1': 0.387}\n",
      "{'File': 'TS29.csv', 'Method': 'moving_avg', 'TN': 1665, 'FP': 0, 'FN': 10, 'TP': 5, 'Precision': 1.0, 'Recall': 0.333, 'F1': 0.5}\n",
      "{'File': 'TS29.csv', 'Method': 'moving_avg_rolling_std', 'TN': 1654, 'FP': 11, 'FN': 4, 'TP': 11, 'Precision': 0.5, 'Recall': 0.733, 'F1': 0.595}\n",
      "{'File': 'TS29.csv', 'Method': 'isolation_forest', 'TN': 1660, 'FP': 5, 'FN': 3, 'TP': 12, 'Precision': 0.706, 'Recall': 0.8, 'F1': 0.75}\n",
      "{'File': 'TS29.csv', 'Method': 'one_class_svm', 'TN': 1662, 'FP': 3, 'FN': 1, 'TP': 14, 'Precision': 0.824, 'Recall': 0.933, 'F1': 0.875}\n",
      "{'File': 'TS29.csv', 'Method': 'max_voting', 'TN': 1661, 'FP': 4, 'FN': 1, 'TP': 14, 'Precision': 0.778, 'Recall': 0.933, 'F1': 0.848}\n",
      "A1Benchmark\\TS3.csv\n",
      "{'File': 'TS3.csv', 'Method': 'mean_plus_standev', 'TN': 1670, 'FP': 0, 'FN': 6, 'TP': 4, 'Precision': 1.0, 'Recall': 0.4, 'F1': 0.571}\n",
      "{'File': 'TS3.csv', 'Method': 'kmeans', 'TN': 1655, 'FP': 15, 'FN': 9, 'TP': 1, 'Precision': 0.062, 'Recall': 0.1, 'F1': 0.077}\n"
     ]
    },
    {
     "name": "stderr",
     "output_type": "stream",
     "text": [
      "D:\\Users\\Gopal\\Anaconda3\\lib\\site-packages\\sklearn\\metrics\\classification.py:1135: UndefinedMetricWarning: Precision is ill-defined and being set to 0.0 due to no predicted samples.\n",
      "  'precision', 'predicted', average, warn_for)\n",
      "D:\\Users\\Gopal\\Anaconda3\\lib\\site-packages\\sklearn\\metrics\\classification.py:1135: UndefinedMetricWarning: F-score is ill-defined and being set to 0.0 due to no predicted samples.\n",
      "  'precision', 'predicted', average, warn_for)\n"
     ]
    },
    {
     "name": "stdout",
     "output_type": "stream",
     "text": [
      "{'File': 'TS3.csv', 'Method': 'moving_avg', 'TN': 1670, 'FP': 0, 'FN': 10, 'TP': 0, 'Precision': 0.0, 'Recall': 0.0, 'F1': 0.0}\n",
      "{'File': 'TS3.csv', 'Method': 'moving_avg_rolling_std', 'TN': 1670, 'FP': 0, 'FN': 6, 'TP': 4, 'Precision': 1.0, 'Recall': 0.4, 'F1': 0.571}\n",
      "{'File': 'TS3.csv', 'Method': 'isolation_forest', 'TN': 1659, 'FP': 11, 'FN': 4, 'TP': 6, 'Precision': 0.353, 'Recall': 0.6, 'F1': 0.444}\n",
      "{'File': 'TS3.csv', 'Method': 'one_class_svm', 'TN': 1660, 'FP': 10, 'FN': 3, 'TP': 7, 'Precision': 0.412, 'Recall': 0.7, 'F1': 0.519}\n",
      "{'File': 'TS3.csv', 'Method': 'max_voting', 'TN': 1670, 'FP': 0, 'FN': 3, 'TP': 7, 'Precision': 1.0, 'Recall': 0.7, 'F1': 0.824}\n",
      "A1Benchmark\\TS30.csv\n"
     ]
    },
    {
     "name": "stderr",
     "output_type": "stream",
     "text": [
      "D:\\Users\\Gopal\\Anaconda3\\lib\\site-packages\\sklearn\\metrics\\classification.py:1135: UndefinedMetricWarning: Precision is ill-defined and being set to 0.0 due to no predicted samples.\n",
      "  'precision', 'predicted', average, warn_for)\n",
      "D:\\Users\\Gopal\\Anaconda3\\lib\\site-packages\\sklearn\\metrics\\classification.py:1135: UndefinedMetricWarning: F-score is ill-defined and being set to 0.0 due to no predicted samples.\n",
      "  'precision', 'predicted', average, warn_for)\n"
     ]
    },
    {
     "name": "stdout",
     "output_type": "stream",
     "text": [
      "{'File': 'TS30.csv', 'Method': 'mean_plus_standev', 'TN': 1667, 'FP': 0, 'FN': 13, 'TP': 0, 'Precision': 0.0, 'Recall': 0.0, 'F1': 0.0}\n",
      "{'File': 'TS30.csv', 'Method': 'kmeans', 'TN': 1652, 'FP': 15, 'FN': 12, 'TP': 1, 'Precision': 0.062, 'Recall': 0.077, 'F1': 0.069}\n",
      "{'File': 'TS30.csv', 'Method': 'moving_avg', 'TN': 1667, 'FP': 0, 'FN': 13, 'TP': 0, 'Precision': 0.0, 'Recall': 0.0, 'F1': 0.0}\n",
      "{'File': 'TS30.csv', 'Method': 'moving_avg_rolling_std', 'TN': 1662, 'FP': 5, 'FN': 7, 'TP': 6, 'Precision': 0.545, 'Recall': 0.462, 'F1': 0.5}\n",
      "{'File': 'TS30.csv', 'Method': 'isolation_forest', 'TN': 1659, 'FP': 8, 'FN': 4, 'TP': 9, 'Precision': 0.529, 'Recall': 0.692, 'F1': 0.6}\n",
      "{'File': 'TS30.csv', 'Method': 'one_class_svm', 'TN': 1659, 'FP': 8, 'FN': 4, 'TP': 9, 'Precision': 0.529, 'Recall': 0.692, 'F1': 0.6}\n",
      "{'File': 'TS30.csv', 'Method': 'max_voting', 'TN': 1662, 'FP': 5, 'FN': 4, 'TP': 9, 'Precision': 0.643, 'Recall': 0.692, 'F1': 0.667}\n",
      "A1Benchmark\\TS31.csv\n",
      "{'File': 'TS31.csv', 'Method': 'mean_plus_standev', 'TN': 1664, 'FP': 0, 'FN': 12, 'TP': 4, 'Precision': 1.0, 'Recall': 0.25, 'F1': 0.4}\n",
      "{'File': 'TS31.csv', 'Method': 'kmeans', 'TN': 1654, 'FP': 10, 'FN': 10, 'TP': 6, 'Precision': 0.375, 'Recall': 0.375, 'F1': 0.375}\n",
      "{'File': 'TS31.csv', 'Method': 'moving_avg', 'TN': 1664, 'FP': 0, 'FN': 15, 'TP': 1, 'Precision': 1.0, 'Recall': 0.062, 'F1': 0.118}\n",
      "{'File': 'TS31.csv', 'Method': 'moving_avg_rolling_std', 'TN': 1640, 'FP': 24, 'FN': 6, 'TP': 10, 'Precision': 0.294, 'Recall': 0.625, 'F1': 0.4}\n",
      "{'File': 'TS31.csv', 'Method': 'isolation_forest', 'TN': 1659, 'FP': 5, 'FN': 4, 'TP': 12, 'Precision': 0.706, 'Recall': 0.75, 'F1': 0.727}\n",
      "{'File': 'TS31.csv', 'Method': 'one_class_svm', 'TN': 1661, 'FP': 3, 'FN': 2, 'TP': 14, 'Precision': 0.824, 'Recall': 0.875, 'F1': 0.848}\n",
      "{'File': 'TS31.csv', 'Method': 'max_voting', 'TN': 1661, 'FP': 3, 'FN': 2, 'TP': 14, 'Precision': 0.824, 'Recall': 0.875, 'F1': 0.848}\n",
      "A1Benchmark\\TS32.csv\n",
      "{'File': 'TS32.csv', 'Method': 'mean_plus_standev', 'TN': 1673, 'FP': 0, 'FN': 5, 'TP': 2, 'Precision': 1.0, 'Recall': 0.286, 'F1': 0.444}\n",
      "{'File': 'TS32.csv', 'Method': 'kmeans', 'TN': 1660, 'FP': 13, 'FN': 4, 'TP': 3, 'Precision': 0.188, 'Recall': 0.429, 'F1': 0.261}\n"
     ]
    },
    {
     "name": "stderr",
     "output_type": "stream",
     "text": [
      "D:\\Users\\Gopal\\Anaconda3\\lib\\site-packages\\sklearn\\metrics\\classification.py:1135: UndefinedMetricWarning: Precision is ill-defined and being set to 0.0 due to no predicted samples.\n",
      "  'precision', 'predicted', average, warn_for)\n",
      "D:\\Users\\Gopal\\Anaconda3\\lib\\site-packages\\sklearn\\metrics\\classification.py:1135: UndefinedMetricWarning: F-score is ill-defined and being set to 0.0 due to no predicted samples.\n",
      "  'precision', 'predicted', average, warn_for)\n"
     ]
    },
    {
     "name": "stdout",
     "output_type": "stream",
     "text": [
      "{'File': 'TS32.csv', 'Method': 'moving_avg', 'TN': 1673, 'FP': 0, 'FN': 7, 'TP': 0, 'Precision': 0.0, 'Recall': 0.0, 'F1': 0.0}\n",
      "{'File': 'TS32.csv', 'Method': 'moving_avg_rolling_std', 'TN': 1671, 'FP': 2, 'FN': 5, 'TP': 2, 'Precision': 0.5, 'Recall': 0.286, 'F1': 0.364}\n",
      "{'File': 'TS32.csv', 'Method': 'isolation_forest', 'TN': 1660, 'FP': 13, 'FN': 3, 'TP': 4, 'Precision': 0.235, 'Recall': 0.571, 'F1': 0.333}\n",
      "{'File': 'TS32.csv', 'Method': 'one_class_svm', 'TN': 1661, 'FP': 12, 'FN': 2, 'TP': 5, 'Precision': 0.294, 'Recall': 0.714, 'F1': 0.417}\n",
      "{'File': 'TS32.csv', 'Method': 'max_voting', 'TN': 1663, 'FP': 10, 'FN': 3, 'TP': 4, 'Precision': 0.286, 'Recall': 0.571, 'F1': 0.381}\n",
      "A1Benchmark\\TS33.csv\n",
      "{'File': 'TS33.csv', 'Method': 'mean_plus_standev', 'TN': 1667, 'FP': 0, 'FN': 10, 'TP': 3, 'Precision': 1.0, 'Recall': 0.231, 'F1': 0.375}\n",
      "{'File': 'TS33.csv', 'Method': 'kmeans', 'TN': 1653, 'FP': 14, 'FN': 11, 'TP': 2, 'Precision': 0.125, 'Recall': 0.154, 'F1': 0.138}\n",
      "{'File': 'TS33.csv', 'Method': 'moving_avg', 'TN': 1667, 'FP': 0, 'FN': 11, 'TP': 2, 'Precision': 1.0, 'Recall': 0.154, 'F1': 0.267}\n",
      "{'File': 'TS33.csv', 'Method': 'moving_avg_rolling_std', 'TN': 1666, 'FP': 1, 'FN': 2, 'TP': 11, 'Precision': 0.917, 'Recall': 0.846, 'F1': 0.88}\n",
      "{'File': 'TS33.csv', 'Method': 'isolation_forest', 'TN': 1657, 'FP': 10, 'FN': 6, 'TP': 7, 'Precision': 0.412, 'Recall': 0.538, 'F1': 0.467}\n",
      "{'File': 'TS33.csv', 'Method': 'one_class_svm', 'TN': 1659, 'FP': 8, 'FN': 4, 'TP': 9, 'Precision': 0.529, 'Recall': 0.692, 'F1': 0.6}\n",
      "{'File': 'TS33.csv', 'Method': 'max_voting', 'TN': 1664, 'FP': 3, 'FN': 5, 'TP': 8, 'Precision': 0.727, 'Recall': 0.615, 'F1': 0.667}\n",
      "A1Benchmark\\TS34.csv\n",
      "{'File': 'TS34.csv', 'Method': 'mean_plus_standev', 'TN': 1674, 'FP': 0, 'FN': 2, 'TP': 4, 'Precision': 1.0, 'Recall': 0.667, 'F1': 0.8}\n",
      "{'File': 'TS34.csv', 'Method': 'kmeans', 'TN': 1662, 'FP': 12, 'FN': 2, 'TP': 4, 'Precision': 0.25, 'Recall': 0.667, 'F1': 0.364}\n",
      "{'File': 'TS34.csv', 'Method': 'moving_avg', 'TN': 1674, 'FP': 0, 'FN': 3, 'TP': 3, 'Precision': 1.0, 'Recall': 0.5, 'F1': 0.667}\n",
      "{'File': 'TS34.csv', 'Method': 'moving_avg_rolling_std', 'TN': 1674, 'FP': 0, 'FN': 0, 'TP': 6, 'Precision': 1.0, 'Recall': 1.0, 'F1': 1.0}\n",
      "{'File': 'TS34.csv', 'Method': 'isolation_forest', 'TN': 1661, 'FP': 13, 'FN': 2, 'TP': 4, 'Precision': 0.235, 'Recall': 0.667, 'F1': 0.348}\n",
      "{'File': 'TS34.csv', 'Method': 'one_class_svm', 'TN': 1663, 'FP': 11, 'FN': 0, 'TP': 6, 'Precision': 0.353, 'Recall': 1.0, 'F1': 0.522}\n",
      "{'File': 'TS34.csv', 'Method': 'max_voting', 'TN': 1671, 'FP': 3, 'FN': 0, 'TP': 6, 'Precision': 0.667, 'Recall': 1.0, 'F1': 0.8}\n",
      "A1Benchmark\\TS35.csv\n",
      "{'File': 'TS35.csv', 'Method': 'mean_plus_standev', 'TN': 1664, 'FP': 0, 'FN': 10, 'TP': 6, 'Precision': 1.0, 'Recall': 0.375, 'F1': 0.545}\n",
      "{'File': 'TS35.csv', 'Method': 'kmeans', 'TN': 1655, 'FP': 9, 'FN': 9, 'TP': 7, 'Precision': 0.438, 'Recall': 0.438, 'F1': 0.438}\n",
      "{'File': 'TS35.csv', 'Method': 'moving_avg', 'TN': 1664, 'FP': 0, 'FN': 13, 'TP': 3, 'Precision': 1.0, 'Recall': 0.188, 'F1': 0.316}\n",
      "{'File': 'TS35.csv', 'Method': 'moving_avg_rolling_std', 'TN': 1658, 'FP': 6, 'FN': 2, 'TP': 14, 'Precision': 0.7, 'Recall': 0.875, 'F1': 0.778}\n",
      "{'File': 'TS35.csv', 'Method': 'isolation_forest', 'TN': 1660, 'FP': 4, 'FN': 3, 'TP': 13, 'Precision': 0.765, 'Recall': 0.812, 'F1': 0.788}\n",
      "{'File': 'TS35.csv', 'Method': 'one_class_svm', 'TN': 1661, 'FP': 3, 'FN': 2, 'TP': 14, 'Precision': 0.824, 'Recall': 0.875, 'F1': 0.848}\n",
      "{'File': 'TS35.csv', 'Method': 'max_voting', 'TN': 1661, 'FP': 3, 'FN': 3, 'TP': 13, 'Precision': 0.812, 'Recall': 0.812, 'F1': 0.812}\n",
      "A1Benchmark\\TS36.csv\n",
      "{'File': 'TS36.csv', 'Method': 'mean_plus_standev', 'TN': 1679, 'FP': 0, 'FN': 0, 'TP': 1, 'Precision': 1.0, 'Recall': 1.0, 'F1': 1.0}\n",
      "{'File': 'TS36.csv', 'Method': 'kmeans', 'TN': 1664, 'FP': 15, 'FN': 0, 'TP': 1, 'Precision': 0.062, 'Recall': 1.0, 'F1': 0.118}\n",
      "{'File': 'TS36.csv', 'Method': 'moving_avg', 'TN': 1679, 'FP': 0, 'FN': 0, 'TP': 1, 'Precision': 1.0, 'Recall': 1.0, 'F1': 1.0}\n",
      "{'File': 'TS36.csv', 'Method': 'moving_avg_rolling_std', 'TN': 1676, 'FP': 3, 'FN': 0, 'TP': 1, 'Precision': 0.25, 'Recall': 1.0, 'F1': 0.4}\n",
      "{'File': 'TS36.csv', 'Method': 'isolation_forest', 'TN': 1662, 'FP': 17, 'FN': 0, 'TP': 1, 'Precision': 0.056, 'Recall': 1.0, 'F1': 0.105}\n",
      "{'File': 'TS36.csv', 'Method': 'one_class_svm', 'TN': 1663, 'FP': 16, 'FN': 0, 'TP': 1, 'Precision': 0.059, 'Recall': 1.0, 'F1': 0.111}\n",
      "{'File': 'TS36.csv', 'Method': 'max_voting', 'TN': 1675, 'FP': 4, 'FN': 0, 'TP': 1, 'Precision': 0.2, 'Recall': 1.0, 'F1': 0.333}\n",
      "A1Benchmark\\TS37.csv\n",
      "{'File': 'TS37.csv', 'Method': 'mean_plus_standev', 'TN': 1671, 'FP': 0, 'FN': 7, 'TP': 2, 'Precision': 1.0, 'Recall': 0.222, 'F1': 0.364}\n",
      "{'File': 'TS37.csv', 'Method': 'kmeans', 'TN': 1658, 'FP': 13, 'FN': 6, 'TP': 3, 'Precision': 0.188, 'Recall': 0.333, 'F1': 0.24}\n",
      "{'File': 'TS37.csv', 'Method': 'moving_avg', 'TN': 1671, 'FP': 0, 'FN': 7, 'TP': 2, 'Precision': 1.0, 'Recall': 0.222, 'F1': 0.364}\n",
      "{'File': 'TS37.csv', 'Method': 'moving_avg_rolling_std', 'TN': 1670, 'FP': 1, 'FN': 1, 'TP': 8, 'Precision': 0.889, 'Recall': 0.889, 'F1': 0.889}\n",
      "{'File': 'TS37.csv', 'Method': 'isolation_forest', 'TN': 1658, 'FP': 13, 'FN': 5, 'TP': 4, 'Precision': 0.235, 'Recall': 0.444, 'F1': 0.308}\n",
      "{'File': 'TS37.csv', 'Method': 'one_class_svm', 'TN': 1662, 'FP': 9, 'FN': 1, 'TP': 8, 'Precision': 0.471, 'Recall': 0.889, 'F1': 0.615}\n",
      "{'File': 'TS37.csv', 'Method': 'max_voting', 'TN': 1663, 'FP': 8, 'FN': 1, 'TP': 8, 'Precision': 0.5, 'Recall': 0.889, 'F1': 0.64}\n",
      "A1Benchmark\\TS38.csv\n",
      "{'File': 'TS38.csv', 'Method': 'mean_plus_standev', 'TN': 1669, 'FP': 0, 'FN': 8, 'TP': 3, 'Precision': 1.0, 'Recall': 0.273, 'F1': 0.429}\n",
      "{'File': 'TS38.csv', 'Method': 'kmeans', 'TN': 1655, 'FP': 14, 'FN': 9, 'TP': 2, 'Precision': 0.125, 'Recall': 0.182, 'F1': 0.148}\n"
     ]
    },
    {
     "name": "stderr",
     "output_type": "stream",
     "text": [
      "D:\\Users\\Gopal\\Anaconda3\\lib\\site-packages\\sklearn\\metrics\\classification.py:1135: UndefinedMetricWarning: Precision is ill-defined and being set to 0.0 due to no predicted samples.\n",
      "  'precision', 'predicted', average, warn_for)\n",
      "D:\\Users\\Gopal\\Anaconda3\\lib\\site-packages\\sklearn\\metrics\\classification.py:1135: UndefinedMetricWarning: F-score is ill-defined and being set to 0.0 due to no predicted samples.\n",
      "  'precision', 'predicted', average, warn_for)\n"
     ]
    },
    {
     "name": "stdout",
     "output_type": "stream",
     "text": [
      "{'File': 'TS38.csv', 'Method': 'moving_avg', 'TN': 1669, 'FP': 0, 'FN': 11, 'TP': 0, 'Precision': 0.0, 'Recall': 0.0, 'F1': 0.0}\n",
      "{'File': 'TS38.csv', 'Method': 'moving_avg_rolling_std', 'TN': 1659, 'FP': 10, 'FN': 3, 'TP': 8, 'Precision': 0.444, 'Recall': 0.727, 'F1': 0.552}\n",
      "{'File': 'TS38.csv', 'Method': 'isolation_forest', 'TN': 1660, 'FP': 9, 'FN': 3, 'TP': 8, 'Precision': 0.471, 'Recall': 0.727, 'F1': 0.571}\n",
      "{'File': 'TS38.csv', 'Method': 'one_class_svm', 'TN': 1662, 'FP': 7, 'FN': 1, 'TP': 10, 'Precision': 0.588, 'Recall': 0.909, 'F1': 0.714}\n",
      "{'File': 'TS38.csv', 'Method': 'max_voting', 'TN': 1663, 'FP': 6, 'FN': 2, 'TP': 9, 'Precision': 0.6, 'Recall': 0.818, 'F1': 0.692}\n",
      "A1Benchmark\\TS39.csv\n",
      "{'File': 'TS39.csv', 'Method': 'mean_plus_standev', 'TN': 1674, 'FP': 0, 'FN': 4, 'TP': 2, 'Precision': 1.0, 'Recall': 0.333, 'F1': 0.5}\n",
      "{'File': 'TS39.csv', 'Method': 'kmeans', 'TN': 1661, 'FP': 13, 'FN': 3, 'TP': 3, 'Precision': 0.188, 'Recall': 0.5, 'F1': 0.273}\n",
      "{'File': 'TS39.csv', 'Method': 'moving_avg', 'TN': 1674, 'FP': 0, 'FN': 3, 'TP': 3, 'Precision': 1.0, 'Recall': 0.5, 'F1': 0.667}\n",
      "{'File': 'TS39.csv', 'Method': 'moving_avg_rolling_std', 'TN': 1674, 'FP': 0, 'FN': 1, 'TP': 5, 'Precision': 1.0, 'Recall': 0.833, 'F1': 0.909}\n",
      "{'File': 'TS39.csv', 'Method': 'isolation_forest', 'TN': 1663, 'FP': 11, 'FN': 0, 'TP': 6, 'Precision': 0.353, 'Recall': 1.0, 'F1': 0.522}\n",
      "{'File': 'TS39.csv', 'Method': 'one_class_svm', 'TN': 1663, 'FP': 11, 'FN': 0, 'TP': 6, 'Precision': 0.353, 'Recall': 1.0, 'F1': 0.522}\n",
      "{'File': 'TS39.csv', 'Method': 'max_voting', 'TN': 1673, 'FP': 1, 'FN': 0, 'TP': 6, 'Precision': 0.857, 'Recall': 1.0, 'F1': 0.923}\n",
      "A1Benchmark\\TS4.csv\n",
      "{'File': 'TS4.csv', 'Method': 'mean_plus_standev', 'TN': 1673, 'FP': 0, 'FN': 4, 'TP': 3, 'Precision': 1.0, 'Recall': 0.429, 'F1': 0.6}\n",
      "{'File': 'TS4.csv', 'Method': 'kmeans', 'TN': 1663, 'FP': 10, 'FN': 1, 'TP': 6, 'Precision': 0.375, 'Recall': 0.857, 'F1': 0.522}\n",
      "{'File': 'TS4.csv', 'Method': 'moving_avg', 'TN': 1673, 'FP': 0, 'FN': 5, 'TP': 2, 'Precision': 1.0, 'Recall': 0.286, 'F1': 0.444}\n",
      "{'File': 'TS4.csv', 'Method': 'moving_avg_rolling_std', 'TN': 1673, 'FP': 0, 'FN': 4, 'TP': 3, 'Precision': 1.0, 'Recall': 0.429, 'F1': 0.6}\n",
      "{'File': 'TS4.csv', 'Method': 'isolation_forest', 'TN': 1660, 'FP': 13, 'FN': 3, 'TP': 4, 'Precision': 0.235, 'Recall': 0.571, 'F1': 0.333}\n",
      "{'File': 'TS4.csv', 'Method': 'one_class_svm', 'TN': 1663, 'FP': 10, 'FN': 0, 'TP': 7, 'Precision': 0.412, 'Recall': 1.0, 'F1': 0.583}\n",
      "{'File': 'TS4.csv', 'Method': 'max_voting', 'TN': 1672, 'FP': 1, 'FN': 1, 'TP': 6, 'Precision': 0.857, 'Recall': 0.857, 'F1': 0.857}\n",
      "A1Benchmark\\TS40.csv\n",
      "{'File': 'TS40.csv', 'Method': 'mean_plus_standev', 'TN': 1667, 'FP': 0, 'FN': 8, 'TP': 5, 'Precision': 1.0, 'Recall': 0.385, 'F1': 0.556}\n",
      "{'File': 'TS40.csv', 'Method': 'kmeans', 'TN': 1655, 'FP': 12, 'FN': 9, 'TP': 4, 'Precision': 0.25, 'Recall': 0.308, 'F1': 0.276}\n",
      "{'File': 'TS40.csv', 'Method': 'moving_avg', 'TN': 1667, 'FP': 0, 'FN': 8, 'TP': 5, 'Precision': 1.0, 'Recall': 0.385, 'F1': 0.556}\n",
      "{'File': 'TS40.csv', 'Method': 'moving_avg_rolling_std', 'TN': 1665, 'FP': 2, 'FN': 5, 'TP': 8, 'Precision': 0.8, 'Recall': 0.615, 'F1': 0.696}\n",
      "{'File': 'TS40.csv', 'Method': 'isolation_forest', 'TN': 1658, 'FP': 9, 'FN': 5, 'TP': 8, 'Precision': 0.471, 'Recall': 0.615, 'F1': 0.533}\n",
      "{'File': 'TS40.csv', 'Method': 'one_class_svm', 'TN': 1660, 'FP': 7, 'FN': 3, 'TP': 10, 'Precision': 0.588, 'Recall': 0.769, 'F1': 0.667}\n",
      "{'File': 'TS40.csv', 'Method': 'max_voting', 'TN': 1665, 'FP': 2, 'FN': 4, 'TP': 9, 'Precision': 0.818, 'Recall': 0.692, 'F1': 0.75}\n",
      "A1Benchmark\\TS41.csv\n",
      "{'File': 'TS41.csv', 'Method': 'mean_plus_standev', 'TN': 1668, 'FP': 0, 'FN': 7, 'TP': 5, 'Precision': 1.0, 'Recall': 0.417, 'F1': 0.588}\n",
      "{'File': 'TS41.csv', 'Method': 'kmeans', 'TN': 1653, 'FP': 15, 'FN': 11, 'TP': 1, 'Precision': 0.062, 'Recall': 0.083, 'F1': 0.071}\n",
      "{'File': 'TS41.csv', 'Method': 'moving_avg', 'TN': 1668, 'FP': 0, 'FN': 9, 'TP': 3, 'Precision': 1.0, 'Recall': 0.25, 'F1': 0.4}\n",
      "{'File': 'TS41.csv', 'Method': 'moving_avg_rolling_std', 'TN': 1663, 'FP': 5, 'FN': 6, 'TP': 6, 'Precision': 0.545, 'Recall': 0.5, 'F1': 0.522}\n",
      "{'File': 'TS41.csv', 'Method': 'isolation_forest', 'TN': 1653, 'FP': 15, 'FN': 10, 'TP': 2, 'Precision': 0.118, 'Recall': 0.167, 'F1': 0.138}\n",
      "{'File': 'TS41.csv', 'Method': 'one_class_svm', 'TN': 1660, 'FP': 8, 'FN': 3, 'TP': 9, 'Precision': 0.529, 'Recall': 0.75, 'F1': 0.621}\n",
      "{'File': 'TS41.csv', 'Method': 'max_voting', 'TN': 1665, 'FP': 3, 'FN': 5, 'TP': 7, 'Precision': 0.7, 'Recall': 0.583, 'F1': 0.636}\n",
      "A1Benchmark\\TS42.csv\n",
      "{'File': 'TS42.csv', 'Method': 'mean_plus_standev', 'TN': 1670, 'FP': 0, 'FN': 7, 'TP': 3, 'Precision': 1.0, 'Recall': 0.3, 'F1': 0.462}\n",
      "{'File': 'TS42.csv', 'Method': 'kmeans', 'TN': 1656, 'FP': 14, 'FN': 8, 'TP': 2, 'Precision': 0.125, 'Recall': 0.2, 'F1': 0.154}\n",
      "{'File': 'TS42.csv', 'Method': 'moving_avg', 'TN': 1670, 'FP': 0, 'FN': 9, 'TP': 1, 'Precision': 1.0, 'Recall': 0.1, 'F1': 0.182}\n",
      "{'File': 'TS42.csv', 'Method': 'moving_avg_rolling_std', 'TN': 1669, 'FP': 1, 'FN': 5, 'TP': 5, 'Precision': 0.833, 'Recall': 0.5, 'F1': 0.625}\n",
      "{'File': 'TS42.csv', 'Method': 'isolation_forest', 'TN': 1660, 'FP': 10, 'FN': 3, 'TP': 7, 'Precision': 0.412, 'Recall': 0.7, 'F1': 0.519}\n",
      "{'File': 'TS42.csv', 'Method': 'one_class_svm', 'TN': 1660, 'FP': 10, 'FN': 3, 'TP': 7, 'Precision': 0.412, 'Recall': 0.7, 'F1': 0.519}\n",
      "{'File': 'TS42.csv', 'Method': 'max_voting', 'TN': 1667, 'FP': 3, 'FN': 3, 'TP': 7, 'Precision': 0.7, 'Recall': 0.7, 'F1': 0.7}\n",
      "A1Benchmark\\TS43.csv\n",
      "{'File': 'TS43.csv', 'Method': 'mean_plus_standev', 'TN': 1672, 'FP': 0, 'FN': 3, 'TP': 5, 'Precision': 1.0, 'Recall': 0.625, 'F1': 0.769}\n",
      "{'File': 'TS43.csv', 'Method': 'kmeans', 'TN': 1660, 'FP': 12, 'FN': 4, 'TP': 4, 'Precision': 0.25, 'Recall': 0.5, 'F1': 0.333}\n",
      "{'File': 'TS43.csv', 'Method': 'moving_avg', 'TN': 1672, 'FP': 0, 'FN': 4, 'TP': 4, 'Precision': 1.0, 'Recall': 0.5, 'F1': 0.667}\n",
      "{'File': 'TS43.csv', 'Method': 'moving_avg_rolling_std', 'TN': 1672, 'FP': 0, 'FN': 3, 'TP': 5, 'Precision': 1.0, 'Recall': 0.625, 'F1': 0.769}\n",
      "{'File': 'TS43.csv', 'Method': 'isolation_forest', 'TN': 1662, 'FP': 10, 'FN': 1, 'TP': 7, 'Precision': 0.412, 'Recall': 0.875, 'F1': 0.56}\n",
      "{'File': 'TS43.csv', 'Method': 'one_class_svm', 'TN': 1663, 'FP': 9, 'FN': 0, 'TP': 8, 'Precision': 0.471, 'Recall': 1.0, 'F1': 0.64}\n",
      "{'File': 'TS43.csv', 'Method': 'max_voting', 'TN': 1671, 'FP': 1, 'FN': 1, 'TP': 7, 'Precision': 0.875, 'Recall': 0.875, 'F1': 0.875}\n",
      "A1Benchmark\\TS44.csv\n"
     ]
    },
    {
     "name": "stderr",
     "output_type": "stream",
     "text": [
      "D:\\Users\\Gopal\\Anaconda3\\lib\\site-packages\\sklearn\\metrics\\classification.py:1135: UndefinedMetricWarning: Precision is ill-defined and being set to 0.0 due to no predicted samples.\n",
      "  'precision', 'predicted', average, warn_for)\n",
      "D:\\Users\\Gopal\\Anaconda3\\lib\\site-packages\\sklearn\\metrics\\classification.py:1135: UndefinedMetricWarning: F-score is ill-defined and being set to 0.0 due to no predicted samples.\n",
      "  'precision', 'predicted', average, warn_for)\n"
     ]
    },
    {
     "name": "stdout",
     "output_type": "stream",
     "text": [
      "{'File': 'TS44.csv', 'Method': 'mean_plus_standev', 'TN': 1679, 'FP': 0, 'FN': 1, 'TP': 0, 'Precision': 0.0, 'Recall': 0.0, 'F1': 0.0}\n",
      "{'File': 'TS44.csv', 'Method': 'kmeans', 'TN': 1663, 'FP': 16, 'FN': 1, 'TP': 0, 'Precision': 0.0, 'Recall': 0.0, 'F1': 0.0}\n",
      "{'File': 'TS44.csv', 'Method': 'moving_avg', 'TN': 1679, 'FP': 0, 'FN': 1, 'TP': 0, 'Precision': 0.0, 'Recall': 0.0, 'F1': 0.0}\n",
      "{'File': 'TS44.csv', 'Method': 'moving_avg_rolling_std', 'TN': 1679, 'FP': 0, 'FN': 0, 'TP': 1, 'Precision': 1.0, 'Recall': 1.0, 'F1': 1.0}\n",
      "{'File': 'TS44.csv', 'Method': 'isolation_forest', 'TN': 1663, 'FP': 16, 'FN': 0, 'TP': 1, 'Precision': 0.059, 'Recall': 1.0, 'F1': 0.111}\n",
      "{'File': 'TS44.csv', 'Method': 'one_class_svm', 'TN': 1663, 'FP': 16, 'FN': 0, 'TP': 1, 'Precision': 0.059, 'Recall': 1.0, 'F1': 0.111}\n",
      "{'File': 'TS44.csv', 'Method': 'max_voting', 'TN': 1679, 'FP': 0, 'FN': 0, 'TP': 1, 'Precision': 1.0, 'Recall': 1.0, 'F1': 1.0}\n",
      "A1Benchmark\\TS45.csv\n",
      "{'File': 'TS45.csv', 'Method': 'mean_plus_standev', 'TN': 1664, 'FP': 0, 'FN': 8, 'TP': 8, 'Precision': 1.0, 'Recall': 0.5, 'F1': 0.667}\n",
      "{'File': 'TS45.csv', 'Method': 'kmeans', 'TN': 1658, 'FP': 6, 'FN': 6, 'TP': 10, 'Precision': 0.625, 'Recall': 0.625, 'F1': 0.625}\n",
      "{'File': 'TS45.csv', 'Method': 'moving_avg', 'TN': 1664, 'FP': 0, 'FN': 11, 'TP': 5, 'Precision': 1.0, 'Recall': 0.312, 'F1': 0.476}\n",
      "{'File': 'TS45.csv', 'Method': 'moving_avg_rolling_std', 'TN': 1657, 'FP': 7, 'FN': 7, 'TP': 9, 'Precision': 0.562, 'Recall': 0.562, 'F1': 0.562}\n",
      "{'File': 'TS45.csv', 'Method': 'isolation_forest', 'TN': 1656, 'FP': 8, 'FN': 7, 'TP': 9, 'Precision': 0.529, 'Recall': 0.562, 'F1': 0.545}\n",
      "{'File': 'TS45.csv', 'Method': 'one_class_svm', 'TN': 1662, 'FP': 2, 'FN': 1, 'TP': 15, 'Precision': 0.882, 'Recall': 0.938, 'F1': 0.909}\n",
      "{'File': 'TS45.csv', 'Method': 'max_voting', 'TN': 1664, 'FP': 0, 'FN': 3, 'TP': 13, 'Precision': 1.0, 'Recall': 0.812, 'F1': 0.897}\n",
      "A1Benchmark\\TS46.csv\n",
      "{'File': 'TS46.csv', 'Method': 'mean_plus_standev', 'TN': 1664, 'FP': 0, 'FN': 9, 'TP': 7, 'Precision': 1.0, 'Recall': 0.438, 'F1': 0.609}\n",
      "{'File': 'TS46.csv', 'Method': 'kmeans', 'TN': 1655, 'FP': 9, 'FN': 9, 'TP': 7, 'Precision': 0.438, 'Recall': 0.438, 'F1': 0.438}\n",
      "{'File': 'TS46.csv', 'Method': 'moving_avg', 'TN': 1664, 'FP': 0, 'FN': 10, 'TP': 6, 'Precision': 1.0, 'Recall': 0.375, 'F1': 0.545}\n",
      "{'File': 'TS46.csv', 'Method': 'moving_avg_rolling_std', 'TN': 1658, 'FP': 6, 'FN': 4, 'TP': 12, 'Precision': 0.667, 'Recall': 0.75, 'F1': 0.706}\n",
      "{'File': 'TS46.csv', 'Method': 'isolation_forest', 'TN': 1655, 'FP': 9, 'FN': 8, 'TP': 8, 'Precision': 0.471, 'Recall': 0.5, 'F1': 0.485}\n",
      "{'File': 'TS46.csv', 'Method': 'one_class_svm', 'TN': 1660, 'FP': 4, 'FN': 3, 'TP': 13, 'Precision': 0.765, 'Recall': 0.812, 'F1': 0.788}\n",
      "{'File': 'TS46.csv', 'Method': 'max_voting', 'TN': 1663, 'FP': 1, 'FN': 3, 'TP': 13, 'Precision': 0.929, 'Recall': 0.812, 'F1': 0.867}\n",
      "A1Benchmark\\TS47.csv\n",
      "{'File': 'TS47.csv', 'Method': 'mean_plus_standev', 'TN': 1673, 'FP': 0, 'FN': 4, 'TP': 3, 'Precision': 1.0, 'Recall': 0.429, 'F1': 0.6}\n",
      "{'File': 'TS47.csv', 'Method': 'kmeans', 'TN': 1660, 'FP': 13, 'FN': 4, 'TP': 3, 'Precision': 0.188, 'Recall': 0.429, 'F1': 0.261}\n",
      "{'File': 'TS47.csv', 'Method': 'moving_avg', 'TN': 1673, 'FP': 0, 'FN': 5, 'TP': 2, 'Precision': 1.0, 'Recall': 0.286, 'F1': 0.444}\n",
      "{'File': 'TS47.csv', 'Method': 'moving_avg_rolling_std', 'TN': 1661, 'FP': 12, 'FN': 3, 'TP': 4, 'Precision': 0.25, 'Recall': 0.571, 'F1': 0.348}\n",
      "{'File': 'TS47.csv', 'Method': 'isolation_forest', 'TN': 1660, 'FP': 13, 'FN': 3, 'TP': 4, 'Precision': 0.235, 'Recall': 0.571, 'F1': 0.333}\n",
      "{'File': 'TS47.csv', 'Method': 'one_class_svm', 'TN': 1662, 'FP': 11, 'FN': 1, 'TP': 6, 'Precision': 0.353, 'Recall': 0.857, 'F1': 0.5}\n",
      "{'File': 'TS47.csv', 'Method': 'max_voting', 'TN': 1666, 'FP': 7, 'FN': 1, 'TP': 6, 'Precision': 0.462, 'Recall': 0.857, 'F1': 0.6}\n",
      "A1Benchmark\\TS48.csv\n",
      "{'File': 'TS48.csv', 'Method': 'mean_plus_standev', 'TN': 1675, 'FP': 0, 'FN': 3, 'TP': 2, 'Precision': 1.0, 'Recall': 0.4, 'F1': 0.571}\n",
      "{'File': 'TS48.csv', 'Method': 'kmeans', 'TN': 1662, 'FP': 13, 'FN': 2, 'TP': 3, 'Precision': 0.188, 'Recall': 0.6, 'F1': 0.286}\n"
     ]
    },
    {
     "name": "stderr",
     "output_type": "stream",
     "text": [
      "D:\\Users\\Gopal\\Anaconda3\\lib\\site-packages\\sklearn\\metrics\\classification.py:1135: UndefinedMetricWarning: Precision is ill-defined and being set to 0.0 due to no predicted samples.\n",
      "  'precision', 'predicted', average, warn_for)\n",
      "D:\\Users\\Gopal\\Anaconda3\\lib\\site-packages\\sklearn\\metrics\\classification.py:1135: UndefinedMetricWarning: F-score is ill-defined and being set to 0.0 due to no predicted samples.\n",
      "  'precision', 'predicted', average, warn_for)\n"
     ]
    },
    {
     "name": "stdout",
     "output_type": "stream",
     "text": [
      "{'File': 'TS48.csv', 'Method': 'moving_avg', 'TN': 1675, 'FP': 0, 'FN': 5, 'TP': 0, 'Precision': 0.0, 'Recall': 0.0, 'F1': 0.0}\n",
      "{'File': 'TS48.csv', 'Method': 'moving_avg_rolling_std', 'TN': 1674, 'FP': 1, 'FN': 4, 'TP': 1, 'Precision': 0.5, 'Recall': 0.2, 'F1': 0.286}\n",
      "{'File': 'TS48.csv', 'Method': 'isolation_forest', 'TN': 1661, 'FP': 14, 'FN': 2, 'TP': 3, 'Precision': 0.176, 'Recall': 0.6, 'F1': 0.273}\n",
      "{'File': 'TS48.csv', 'Method': 'one_class_svm', 'TN': 1663, 'FP': 12, 'FN': 0, 'TP': 5, 'Precision': 0.294, 'Recall': 1.0, 'F1': 0.455}\n",
      "{'File': 'TS48.csv', 'Method': 'max_voting', 'TN': 1671, 'FP': 4, 'FN': 2, 'TP': 3, 'Precision': 0.429, 'Recall': 0.6, 'F1': 0.5}\n",
      "A1Benchmark\\TS49.csv\n",
      "{'File': 'TS49.csv', 'Method': 'mean_plus_standev', 'TN': 1671, 'FP': 0, 'FN': 4, 'TP': 5, 'Precision': 1.0, 'Recall': 0.556, 'F1': 0.714}\n",
      "{'File': 'TS49.csv', 'Method': 'kmeans', 'TN': 1657, 'FP': 14, 'FN': 7, 'TP': 2, 'Precision': 0.125, 'Recall': 0.222, 'F1': 0.16}\n",
      "{'File': 'TS49.csv', 'Method': 'moving_avg', 'TN': 1671, 'FP': 0, 'FN': 5, 'TP': 4, 'Precision': 1.0, 'Recall': 0.444, 'F1': 0.615}\n",
      "{'File': 'TS49.csv', 'Method': 'moving_avg_rolling_std', 'TN': 1669, 'FP': 2, 'FN': 3, 'TP': 6, 'Precision': 0.75, 'Recall': 0.667, 'F1': 0.706}\n",
      "{'File': 'TS49.csv', 'Method': 'isolation_forest', 'TN': 1660, 'FP': 11, 'FN': 3, 'TP': 6, 'Precision': 0.353, 'Recall': 0.667, 'F1': 0.462}\n",
      "{'File': 'TS49.csv', 'Method': 'one_class_svm', 'TN': 1661, 'FP': 10, 'FN': 2, 'TP': 7, 'Precision': 0.412, 'Recall': 0.778, 'F1': 0.538}\n",
      "{'File': 'TS49.csv', 'Method': 'max_voting', 'TN': 1664, 'FP': 7, 'FN': 3, 'TP': 6, 'Precision': 0.462, 'Recall': 0.667, 'F1': 0.545}\n",
      "A1Benchmark\\TS5.csv\n"
     ]
    },
    {
     "name": "stderr",
     "output_type": "stream",
     "text": [
      "D:\\Users\\Gopal\\Anaconda3\\lib\\site-packages\\sklearn\\metrics\\classification.py:1135: UndefinedMetricWarning: Precision is ill-defined and being set to 0.0 due to no predicted samples.\n",
      "  'precision', 'predicted', average, warn_for)\n",
      "D:\\Users\\Gopal\\Anaconda3\\lib\\site-packages\\sklearn\\metrics\\classification.py:1135: UndefinedMetricWarning: F-score is ill-defined and being set to 0.0 due to no predicted samples.\n",
      "  'precision', 'predicted', average, warn_for)\n"
     ]
    },
    {
     "name": "stdout",
     "output_type": "stream",
     "text": [
      "{'File': 'TS5.csv', 'Method': 'mean_plus_standev', 'TN': 1671, 'FP': 0, 'FN': 9, 'TP': 0, 'Precision': 0.0, 'Recall': 0.0, 'F1': 0.0}\n",
      "{'File': 'TS5.csv', 'Method': 'kmeans', 'TN': 1656, 'FP': 15, 'FN': 8, 'TP': 1, 'Precision': 0.062, 'Recall': 0.111, 'F1': 0.08}\n",
      "{'File': 'TS5.csv', 'Method': 'moving_avg', 'TN': 1671, 'FP': 0, 'FN': 9, 'TP': 0, 'Precision': 0.0, 'Recall': 0.0, 'F1': 0.0}\n",
      "{'File': 'TS5.csv', 'Method': 'moving_avg_rolling_std', 'TN': 1671, 'FP': 0, 'FN': 3, 'TP': 6, 'Precision': 1.0, 'Recall': 0.667, 'F1': 0.8}\n",
      "{'File': 'TS5.csv', 'Method': 'isolation_forest', 'TN': 1660, 'FP': 11, 'FN': 3, 'TP': 6, 'Precision': 0.353, 'Recall': 0.667, 'F1': 0.462}\n",
      "{'File': 'TS5.csv', 'Method': 'one_class_svm', 'TN': 1662, 'FP': 9, 'FN': 1, 'TP': 8, 'Precision': 0.471, 'Recall': 0.889, 'F1': 0.615}\n",
      "{'File': 'TS5.csv', 'Method': 'max_voting', 'TN': 1670, 'FP': 1, 'FN': 1, 'TP': 8, 'Precision': 0.889, 'Recall': 0.889, 'F1': 0.889}\n",
      "A1Benchmark\\TS50.csv\n",
      "{'File': 'TS50.csv', 'Method': 'mean_plus_standev', 'TN': 1665, 'FP': 0, 'FN': 13, 'TP': 2, 'Precision': 1.0, 'Recall': 0.133, 'F1': 0.235}\n",
      "{'File': 'TS50.csv', 'Method': 'kmeans', 'TN': 1652, 'FP': 13, 'FN': 12, 'TP': 3, 'Precision': 0.188, 'Recall': 0.2, 'F1': 0.194}\n"
     ]
    },
    {
     "name": "stderr",
     "output_type": "stream",
     "text": [
      "D:\\Users\\Gopal\\Anaconda3\\lib\\site-packages\\sklearn\\metrics\\classification.py:1135: UndefinedMetricWarning: Precision is ill-defined and being set to 0.0 due to no predicted samples.\n",
      "  'precision', 'predicted', average, warn_for)\n",
      "D:\\Users\\Gopal\\Anaconda3\\lib\\site-packages\\sklearn\\metrics\\classification.py:1135: UndefinedMetricWarning: F-score is ill-defined and being set to 0.0 due to no predicted samples.\n",
      "  'precision', 'predicted', average, warn_for)\n"
     ]
    },
    {
     "name": "stdout",
     "output_type": "stream",
     "text": [
      "{'File': 'TS50.csv', 'Method': 'moving_avg', 'TN': 1665, 'FP': 0, 'FN': 15, 'TP': 0, 'Precision': 0.0, 'Recall': 0.0, 'F1': 0.0}\n",
      "{'File': 'TS50.csv', 'Method': 'moving_avg_rolling_std', 'TN': 1650, 'FP': 15, 'FN': 7, 'TP': 8, 'Precision': 0.348, 'Recall': 0.533, 'F1': 0.421}\n",
      "{'File': 'TS50.csv', 'Method': 'isolation_forest', 'TN': 1656, 'FP': 9, 'FN': 7, 'TP': 8, 'Precision': 0.471, 'Recall': 0.533, 'F1': 0.5}\n",
      "{'File': 'TS50.csv', 'Method': 'one_class_svm', 'TN': 1657, 'FP': 8, 'FN': 6, 'TP': 9, 'Precision': 0.529, 'Recall': 0.6, 'F1': 0.562}\n",
      "{'File': 'TS50.csv', 'Method': 'max_voting', 'TN': 1659, 'FP': 6, 'FN': 7, 'TP': 8, 'Precision': 0.571, 'Recall': 0.533, 'F1': 0.552}\n",
      "A1Benchmark\\TS51.csv\n",
      "{'File': 'TS51.csv', 'Method': 'mean_plus_standev', 'TN': 1674, 'FP': 0, 'FN': 4, 'TP': 2, 'Precision': 1.0, 'Recall': 0.333, 'F1': 0.5}\n",
      "{'File': 'TS51.csv', 'Method': 'kmeans', 'TN': 1660, 'FP': 14, 'FN': 4, 'TP': 2, 'Precision': 0.125, 'Recall': 0.333, 'F1': 0.182}\n",
      "{'File': 'TS51.csv', 'Method': 'moving_avg', 'TN': 1674, 'FP': 0, 'FN': 5, 'TP': 1, 'Precision': 1.0, 'Recall': 0.167, 'F1': 0.286}\n",
      "{'File': 'TS51.csv', 'Method': 'moving_avg_rolling_std', 'TN': 1672, 'FP': 2, 'FN': 5, 'TP': 1, 'Precision': 0.333, 'Recall': 0.167, 'F1': 0.222}\n",
      "{'File': 'TS51.csv', 'Method': 'isolation_forest', 'TN': 1660, 'FP': 14, 'FN': 3, 'TP': 3, 'Precision': 0.176, 'Recall': 0.5, 'F1': 0.261}\n",
      "{'File': 'TS51.csv', 'Method': 'one_class_svm', 'TN': 1661, 'FP': 13, 'FN': 2, 'TP': 4, 'Precision': 0.235, 'Recall': 0.667, 'F1': 0.348}\n",
      "{'File': 'TS51.csv', 'Method': 'max_voting', 'TN': 1672, 'FP': 2, 'FN': 3, 'TP': 3, 'Precision': 0.6, 'Recall': 0.5, 'F1': 0.545}\n",
      "A1Benchmark\\TS52.csv\n",
      "{'File': 'TS52.csv', 'Method': 'mean_plus_standev', 'TN': 1666, 'FP': 0, 'FN': 10, 'TP': 4, 'Precision': 1.0, 'Recall': 0.286, 'F1': 0.444}\n",
      "{'File': 'TS52.csv', 'Method': 'kmeans', 'TN': 1656, 'FP': 10, 'FN': 8, 'TP': 6, 'Precision': 0.375, 'Recall': 0.429, 'F1': 0.4}\n"
     ]
    },
    {
     "name": "stderr",
     "output_type": "stream",
     "text": [
      "D:\\Users\\Gopal\\Anaconda3\\lib\\site-packages\\sklearn\\metrics\\classification.py:1135: UndefinedMetricWarning: Precision is ill-defined and being set to 0.0 due to no predicted samples.\n",
      "  'precision', 'predicted', average, warn_for)\n",
      "D:\\Users\\Gopal\\Anaconda3\\lib\\site-packages\\sklearn\\metrics\\classification.py:1135: UndefinedMetricWarning: F-score is ill-defined and being set to 0.0 due to no predicted samples.\n",
      "  'precision', 'predicted', average, warn_for)\n"
     ]
    },
    {
     "name": "stdout",
     "output_type": "stream",
     "text": [
      "{'File': 'TS52.csv', 'Method': 'moving_avg', 'TN': 1666, 'FP': 0, 'FN': 14, 'TP': 0, 'Precision': 0.0, 'Recall': 0.0, 'F1': 0.0}\n",
      "{'File': 'TS52.csv', 'Method': 'moving_avg_rolling_std', 'TN': 1659, 'FP': 7, 'FN': 6, 'TP': 8, 'Precision': 0.533, 'Recall': 0.571, 'F1': 0.552}\n",
      "{'File': 'TS52.csv', 'Method': 'isolation_forest', 'TN': 1655, 'FP': 11, 'FN': 8, 'TP': 6, 'Precision': 0.353, 'Recall': 0.429, 'F1': 0.387}\n",
      "{'File': 'TS52.csv', 'Method': 'one_class_svm', 'TN': 1661, 'FP': 5, 'FN': 2, 'TP': 12, 'Precision': 0.706, 'Recall': 0.857, 'F1': 0.774}\n",
      "{'File': 'TS52.csv', 'Method': 'max_voting', 'TN': 1665, 'FP': 1, 'FN': 3, 'TP': 11, 'Precision': 0.917, 'Recall': 0.786, 'F1': 0.846}\n",
      "A1Benchmark\\TS53.csv\n",
      "{'File': 'TS53.csv', 'Method': 'mean_plus_standev', 'TN': 1664, 'FP': 0, 'FN': 8, 'TP': 8, 'Precision': 1.0, 'Recall': 0.5, 'F1': 0.667}\n",
      "{'File': 'TS53.csv', 'Method': 'kmeans', 'TN': 1654, 'FP': 10, 'FN': 10, 'TP': 6, 'Precision': 0.375, 'Recall': 0.375, 'F1': 0.375}\n",
      "{'File': 'TS53.csv', 'Method': 'moving_avg', 'TN': 1664, 'FP': 0, 'FN': 10, 'TP': 6, 'Precision': 1.0, 'Recall': 0.375, 'F1': 0.545}\n",
      "{'File': 'TS53.csv', 'Method': 'moving_avg_rolling_std', 'TN': 1664, 'FP': 0, 'FN': 4, 'TP': 12, 'Precision': 1.0, 'Recall': 0.75, 'F1': 0.857}\n",
      "{'File': 'TS53.csv', 'Method': 'isolation_forest', 'TN': 1656, 'FP': 8, 'FN': 7, 'TP': 9, 'Precision': 0.529, 'Recall': 0.562, 'F1': 0.545}\n",
      "{'File': 'TS53.csv', 'Method': 'one_class_svm', 'TN': 1662, 'FP': 2, 'FN': 1, 'TP': 15, 'Precision': 0.882, 'Recall': 0.938, 'F1': 0.909}\n",
      "{'File': 'TS53.csv', 'Method': 'max_voting', 'TN': 1664, 'FP': 0, 'FN': 3, 'TP': 13, 'Precision': 1.0, 'Recall': 0.812, 'F1': 0.897}\n",
      "A1Benchmark\\TS54.csv\n",
      "{'File': 'TS54.csv', 'Method': 'mean_plus_standev', 'TN': 1665, 'FP': 0, 'FN': 8, 'TP': 7, 'Precision': 1.0, 'Recall': 0.467, 'F1': 0.636}\n",
      "{'File': 'TS54.csv', 'Method': 'kmeans', 'TN': 1658, 'FP': 7, 'FN': 6, 'TP': 9, 'Precision': 0.562, 'Recall': 0.6, 'F1': 0.581}\n",
      "{'File': 'TS54.csv', 'Method': 'moving_avg', 'TN': 1665, 'FP': 0, 'FN': 12, 'TP': 3, 'Precision': 1.0, 'Recall': 0.2, 'F1': 0.333}\n",
      "{'File': 'TS54.csv', 'Method': 'moving_avg_rolling_std', 'TN': 1663, 'FP': 2, 'FN': 3, 'TP': 12, 'Precision': 0.857, 'Recall': 0.8, 'F1': 0.828}\n",
      "{'File': 'TS54.csv', 'Method': 'isolation_forest', 'TN': 1660, 'FP': 5, 'FN': 3, 'TP': 12, 'Precision': 0.706, 'Recall': 0.8, 'F1': 0.75}\n",
      "{'File': 'TS54.csv', 'Method': 'one_class_svm', 'TN': 1661, 'FP': 4, 'FN': 2, 'TP': 13, 'Precision': 0.765, 'Recall': 0.867, 'F1': 0.812}\n",
      "{'File': 'TS54.csv', 'Method': 'max_voting', 'TN': 1662, 'FP': 3, 'FN': 2, 'TP': 13, 'Precision': 0.812, 'Recall': 0.867, 'F1': 0.839}\n",
      "A1Benchmark\\TS55.csv\n",
      "{'File': 'TS55.csv', 'Method': 'mean_plus_standev', 'TN': 1676, 'FP': 0, 'FN': 1, 'TP': 3, 'Precision': 1.0, 'Recall': 0.75, 'F1': 0.857}\n",
      "{'File': 'TS55.csv', 'Method': 'kmeans', 'TN': 1661, 'FP': 15, 'FN': 3, 'TP': 1, 'Precision': 0.062, 'Recall': 0.25, 'F1': 0.1}\n",
      "{'File': 'TS55.csv', 'Method': 'moving_avg', 'TN': 1676, 'FP': 0, 'FN': 2, 'TP': 2, 'Precision': 1.0, 'Recall': 0.5, 'F1': 0.667}\n",
      "{'File': 'TS55.csv', 'Method': 'moving_avg_rolling_std', 'TN': 1676, 'FP': 0, 'FN': 0, 'TP': 4, 'Precision': 1.0, 'Recall': 1.0, 'F1': 1.0}\n",
      "{'File': 'TS55.csv', 'Method': 'isolation_forest', 'TN': 1662, 'FP': 14, 'FN': 0, 'TP': 4, 'Precision': 0.222, 'Recall': 1.0, 'F1': 0.364}\n",
      "{'File': 'TS55.csv', 'Method': 'one_class_svm', 'TN': 1663, 'FP': 13, 'FN': 0, 'TP': 4, 'Precision': 0.235, 'Recall': 1.0, 'F1': 0.381}\n",
      "{'File': 'TS55.csv', 'Method': 'max_voting', 'TN': 1671, 'FP': 5, 'FN': 0, 'TP': 4, 'Precision': 0.444, 'Recall': 1.0, 'F1': 0.615}\n",
      "A1Benchmark\\TS56.csv\n",
      "{'File': 'TS56.csv', 'Method': 'mean_plus_standev', 'TN': 1668, 'FP': 0, 'FN': 6, 'TP': 6, 'Precision': 1.0, 'Recall': 0.5, 'F1': 0.667}\n",
      "{'File': 'TS56.csv', 'Method': 'kmeans', 'TN': 1658, 'FP': 10, 'FN': 6, 'TP': 6, 'Precision': 0.375, 'Recall': 0.5, 'F1': 0.429}\n",
      "{'File': 'TS56.csv', 'Method': 'moving_avg', 'TN': 1668, 'FP': 0, 'FN': 10, 'TP': 2, 'Precision': 1.0, 'Recall': 0.167, 'F1': 0.286}\n",
      "{'File': 'TS56.csv', 'Method': 'moving_avg_rolling_std', 'TN': 1660, 'FP': 8, 'FN': 6, 'TP': 6, 'Precision': 0.429, 'Recall': 0.5, 'F1': 0.462}\n",
      "{'File': 'TS56.csv', 'Method': 'isolation_forest', 'TN': 1658, 'FP': 10, 'FN': 5, 'TP': 7, 'Precision': 0.412, 'Recall': 0.583, 'F1': 0.483}\n",
      "{'File': 'TS56.csv', 'Method': 'one_class_svm', 'TN': 1660, 'FP': 8, 'FN': 3, 'TP': 9, 'Precision': 0.529, 'Recall': 0.75, 'F1': 0.621}\n",
      "{'File': 'TS56.csv', 'Method': 'max_voting', 'TN': 1665, 'FP': 3, 'FN': 4, 'TP': 8, 'Precision': 0.727, 'Recall': 0.667, 'F1': 0.696}\n",
      "A1Benchmark\\TS57.csv\n"
     ]
    },
    {
     "name": "stderr",
     "output_type": "stream",
     "text": [
      "D:\\Users\\Gopal\\Anaconda3\\lib\\site-packages\\sklearn\\metrics\\classification.py:1135: UndefinedMetricWarning: Precision is ill-defined and being set to 0.0 due to no predicted samples.\n",
      "  'precision', 'predicted', average, warn_for)\n",
      "D:\\Users\\Gopal\\Anaconda3\\lib\\site-packages\\sklearn\\metrics\\classification.py:1135: UndefinedMetricWarning: F-score is ill-defined and being set to 0.0 due to no predicted samples.\n",
      "  'precision', 'predicted', average, warn_for)\n"
     ]
    },
    {
     "name": "stdout",
     "output_type": "stream",
     "text": [
      "{'File': 'TS57.csv', 'Method': 'mean_plus_standev', 'TN': 1673, 'FP': 0, 'FN': 7, 'TP': 0, 'Precision': 0.0, 'Recall': 0.0, 'F1': 0.0}\n",
      "{'File': 'TS57.csv', 'Method': 'kmeans', 'TN': 1659, 'FP': 14, 'FN': 5, 'TP': 2, 'Precision': 0.125, 'Recall': 0.286, 'F1': 0.174}\n",
      "{'File': 'TS57.csv', 'Method': 'moving_avg', 'TN': 1673, 'FP': 0, 'FN': 7, 'TP': 0, 'Precision': 0.0, 'Recall': 0.0, 'F1': 0.0}\n",
      "{'File': 'TS57.csv', 'Method': 'moving_avg_rolling_std', 'TN': 1657, 'FP': 16, 'FN': 4, 'TP': 3, 'Precision': 0.158, 'Recall': 0.429, 'F1': 0.231}\n",
      "{'File': 'TS57.csv', 'Method': 'isolation_forest', 'TN': 1660, 'FP': 13, 'FN': 3, 'TP': 4, 'Precision': 0.235, 'Recall': 0.571, 'F1': 0.333}\n",
      "{'File': 'TS57.csv', 'Method': 'one_class_svm', 'TN': 1660, 'FP': 13, 'FN': 3, 'TP': 4, 'Precision': 0.235, 'Recall': 0.571, 'F1': 0.333}\n",
      "{'File': 'TS57.csv', 'Method': 'max_voting', 'TN': 1664, 'FP': 9, 'FN': 3, 'TP': 4, 'Precision': 0.308, 'Recall': 0.571, 'F1': 0.4}\n",
      "A1Benchmark\\TS58.csv\n",
      "{'File': 'TS58.csv', 'Method': 'mean_plus_standev', 'TN': 1668, 'FP': 0, 'FN': 7, 'TP': 5, 'Precision': 1.0, 'Recall': 0.417, 'F1': 0.588}\n",
      "{'File': 'TS58.csv', 'Method': 'kmeans', 'TN': 1655, 'FP': 13, 'FN': 9, 'TP': 3, 'Precision': 0.188, 'Recall': 0.25, 'F1': 0.214}\n"
     ]
    },
    {
     "name": "stderr",
     "output_type": "stream",
     "text": [
      "D:\\Users\\Gopal\\Anaconda3\\lib\\site-packages\\sklearn\\metrics\\classification.py:1135: UndefinedMetricWarning: Precision is ill-defined and being set to 0.0 due to no predicted samples.\n",
      "  'precision', 'predicted', average, warn_for)\n",
      "D:\\Users\\Gopal\\Anaconda3\\lib\\site-packages\\sklearn\\metrics\\classification.py:1135: UndefinedMetricWarning: F-score is ill-defined and being set to 0.0 due to no predicted samples.\n",
      "  'precision', 'predicted', average, warn_for)\n"
     ]
    },
    {
     "name": "stdout",
     "output_type": "stream",
     "text": [
      "{'File': 'TS58.csv', 'Method': 'moving_avg', 'TN': 1668, 'FP': 0, 'FN': 12, 'TP': 0, 'Precision': 0.0, 'Recall': 0.0, 'F1': 0.0}\n",
      "{'File': 'TS58.csv', 'Method': 'moving_avg_rolling_std', 'TN': 1663, 'FP': 5, 'FN': 7, 'TP': 5, 'Precision': 0.5, 'Recall': 0.417, 'F1': 0.455}\n",
      "{'File': 'TS58.csv', 'Method': 'isolation_forest', 'TN': 1659, 'FP': 9, 'FN': 4, 'TP': 8, 'Precision': 0.471, 'Recall': 0.667, 'F1': 0.552}\n",
      "{'File': 'TS58.csv', 'Method': 'one_class_svm', 'TN': 1662, 'FP': 6, 'FN': 1, 'TP': 11, 'Precision': 0.647, 'Recall': 0.917, 'F1': 0.759}\n",
      "{'File': 'TS58.csv', 'Method': 'max_voting', 'TN': 1667, 'FP': 1, 'FN': 3, 'TP': 9, 'Precision': 0.9, 'Recall': 0.75, 'F1': 0.818}\n",
      "A1Benchmark\\TS59.csv\n",
      "{'File': 'TS59.csv', 'Method': 'mean_plus_standev', 'TN': 1672, 'FP': 0, 'FN': 7, 'TP': 1, 'Precision': 1.0, 'Recall': 0.125, 'F1': 0.222}\n",
      "{'File': 'TS59.csv', 'Method': 'kmeans', 'TN': 1657, 'FP': 15, 'FN': 7, 'TP': 1, 'Precision': 0.062, 'Recall': 0.125, 'F1': 0.083}\n"
     ]
    },
    {
     "name": "stderr",
     "output_type": "stream",
     "text": [
      "D:\\Users\\Gopal\\Anaconda3\\lib\\site-packages\\sklearn\\metrics\\classification.py:1135: UndefinedMetricWarning: Precision is ill-defined and being set to 0.0 due to no predicted samples.\n",
      "  'precision', 'predicted', average, warn_for)\n",
      "D:\\Users\\Gopal\\Anaconda3\\lib\\site-packages\\sklearn\\metrics\\classification.py:1135: UndefinedMetricWarning: F-score is ill-defined and being set to 0.0 due to no predicted samples.\n",
      "  'precision', 'predicted', average, warn_for)\n"
     ]
    },
    {
     "name": "stdout",
     "output_type": "stream",
     "text": [
      "{'File': 'TS59.csv', 'Method': 'moving_avg', 'TN': 1672, 'FP': 0, 'FN': 8, 'TP': 0, 'Precision': 0.0, 'Recall': 0.0, 'F1': 0.0}\n",
      "{'File': 'TS59.csv', 'Method': 'moving_avg_rolling_std', 'TN': 1670, 'FP': 2, 'FN': 2, 'TP': 6, 'Precision': 0.75, 'Recall': 0.75, 'F1': 0.75}\n",
      "{'File': 'TS59.csv', 'Method': 'isolation_forest', 'TN': 1660, 'FP': 12, 'FN': 2, 'TP': 6, 'Precision': 0.333, 'Recall': 0.75, 'F1': 0.462}\n",
      "{'File': 'TS59.csv', 'Method': 'one_class_svm', 'TN': 1661, 'FP': 11, 'FN': 2, 'TP': 6, 'Precision': 0.353, 'Recall': 0.75, 'F1': 0.48}\n",
      "{'File': 'TS59.csv', 'Method': 'max_voting', 'TN': 1669, 'FP': 3, 'FN': 2, 'TP': 6, 'Precision': 0.667, 'Recall': 0.75, 'F1': 0.706}\n",
      "A1Benchmark\\TS6.csv\n",
      "{'File': 'TS6.csv', 'Method': 'mean_plus_standev', 'TN': 1665, 'FP': 0, 'FN': 10, 'TP': 5, 'Precision': 1.0, 'Recall': 0.333, 'F1': 0.5}\n",
      "{'File': 'TS6.csv', 'Method': 'kmeans', 'TN': 1652, 'FP': 13, 'FN': 12, 'TP': 3, 'Precision': 0.188, 'Recall': 0.2, 'F1': 0.194}\n",
      "{'File': 'TS6.csv', 'Method': 'moving_avg', 'TN': 1665, 'FP': 0, 'FN': 12, 'TP': 3, 'Precision': 1.0, 'Recall': 0.2, 'F1': 0.333}\n",
      "{'File': 'TS6.csv', 'Method': 'moving_avg_rolling_std', 'TN': 1665, 'FP': 0, 'FN': 9, 'TP': 6, 'Precision': 1.0, 'Recall': 0.4, 'F1': 0.571}\n",
      "{'File': 'TS6.csv', 'Method': 'isolation_forest', 'TN': 1656, 'FP': 9, 'FN': 7, 'TP': 8, 'Precision': 0.471, 'Recall': 0.533, 'F1': 0.5}\n",
      "{'File': 'TS6.csv', 'Method': 'one_class_svm', 'TN': 1659, 'FP': 6, 'FN': 4, 'TP': 11, 'Precision': 0.647, 'Recall': 0.733, 'F1': 0.688}\n",
      "{'File': 'TS6.csv', 'Method': 'max_voting', 'TN': 1661, 'FP': 4, 'FN': 6, 'TP': 9, 'Precision': 0.692, 'Recall': 0.6, 'F1': 0.643}\n",
      "A1Benchmark\\TS60.csv\n",
      "{'File': 'TS60.csv', 'Method': 'mean_plus_standev', 'TN': 1667, 'FP': 0, 'FN': 11, 'TP': 2, 'Precision': 1.0, 'Recall': 0.154, 'F1': 0.267}\n",
      "{'File': 'TS60.csv', 'Method': 'kmeans', 'TN': 1657, 'FP': 10, 'FN': 7, 'TP': 6, 'Precision': 0.375, 'Recall': 0.462, 'F1': 0.414}\n",
      "{'File': 'TS60.csv', 'Method': 'moving_avg', 'TN': 1667, 'FP': 0, 'FN': 12, 'TP': 1, 'Precision': 1.0, 'Recall': 0.077, 'F1': 0.143}\n",
      "{'File': 'TS60.csv', 'Method': 'moving_avg_rolling_std', 'TN': 1666, 'FP': 1, 'FN': 8, 'TP': 5, 'Precision': 0.833, 'Recall': 0.385, 'F1': 0.526}\n",
      "{'File': 'TS60.csv', 'Method': 'isolation_forest', 'TN': 1656, 'FP': 11, 'FN': 7, 'TP': 6, 'Precision': 0.353, 'Recall': 0.462, 'F1': 0.4}\n",
      "{'File': 'TS60.csv', 'Method': 'one_class_svm', 'TN': 1660, 'FP': 7, 'FN': 3, 'TP': 10, 'Precision': 0.588, 'Recall': 0.769, 'F1': 0.667}\n",
      "{'File': 'TS60.csv', 'Method': 'max_voting', 'TN': 1662, 'FP': 5, 'FN': 4, 'TP': 9, 'Precision': 0.643, 'Recall': 0.692, 'F1': 0.667}\n",
      "A1Benchmark\\TS61.csv\n",
      "{'File': 'TS61.csv', 'Method': 'mean_plus_standev', 'TN': 1673, 'FP': 0, 'FN': 5, 'TP': 2, 'Precision': 1.0, 'Recall': 0.286, 'F1': 0.444}\n",
      "{'File': 'TS61.csv', 'Method': 'kmeans', 'TN': 1659, 'FP': 14, 'FN': 5, 'TP': 2, 'Precision': 0.125, 'Recall': 0.286, 'F1': 0.174}\n"
     ]
    },
    {
     "name": "stderr",
     "output_type": "stream",
     "text": [
      "D:\\Users\\Gopal\\Anaconda3\\lib\\site-packages\\sklearn\\metrics\\classification.py:1135: UndefinedMetricWarning: Precision is ill-defined and being set to 0.0 due to no predicted samples.\n",
      "  'precision', 'predicted', average, warn_for)\n",
      "D:\\Users\\Gopal\\Anaconda3\\lib\\site-packages\\sklearn\\metrics\\classification.py:1135: UndefinedMetricWarning: F-score is ill-defined and being set to 0.0 due to no predicted samples.\n",
      "  'precision', 'predicted', average, warn_for)\n"
     ]
    },
    {
     "name": "stdout",
     "output_type": "stream",
     "text": [
      "{'File': 'TS61.csv', 'Method': 'moving_avg', 'TN': 1673, 'FP': 0, 'FN': 7, 'TP': 0, 'Precision': 0.0, 'Recall': 0.0, 'F1': 0.0}\n",
      "{'File': 'TS61.csv', 'Method': 'moving_avg_rolling_std', 'TN': 1671, 'FP': 2, 'FN': 5, 'TP': 2, 'Precision': 0.5, 'Recall': 0.286, 'F1': 0.364}\n",
      "{'File': 'TS61.csv', 'Method': 'isolation_forest', 'TN': 1658, 'FP': 15, 'FN': 5, 'TP': 2, 'Precision': 0.118, 'Recall': 0.286, 'F1': 0.167}\n",
      "{'File': 'TS61.csv', 'Method': 'one_class_svm', 'TN': 1660, 'FP': 13, 'FN': 3, 'TP': 4, 'Precision': 0.235, 'Recall': 0.571, 'F1': 0.333}\n",
      "{'File': 'TS61.csv', 'Method': 'max_voting', 'TN': 1664, 'FP': 9, 'FN': 4, 'TP': 3, 'Precision': 0.25, 'Recall': 0.429, 'F1': 0.316}\n",
      "A1Benchmark\\TS62.csv\n",
      "{'File': 'TS62.csv', 'Method': 'mean_plus_standev', 'TN': 1670, 'FP': 0, 'FN': 8, 'TP': 2, 'Precision': 1.0, 'Recall': 0.2, 'F1': 0.333}\n",
      "{'File': 'TS62.csv', 'Method': 'kmeans', 'TN': 1656, 'FP': 14, 'FN': 8, 'TP': 2, 'Precision': 0.125, 'Recall': 0.2, 'F1': 0.154}\n",
      "{'File': 'TS62.csv', 'Method': 'moving_avg', 'TN': 1670, 'FP': 0, 'FN': 8, 'TP': 2, 'Precision': 1.0, 'Recall': 0.2, 'F1': 0.333}\n",
      "{'File': 'TS62.csv', 'Method': 'moving_avg_rolling_std', 'TN': 1668, 'FP': 2, 'FN': 2, 'TP': 8, 'Precision': 0.8, 'Recall': 0.8, 'F1': 0.8}\n",
      "{'File': 'TS62.csv', 'Method': 'isolation_forest', 'TN': 1660, 'FP': 10, 'FN': 3, 'TP': 7, 'Precision': 0.412, 'Recall': 0.7, 'F1': 0.519}\n",
      "{'File': 'TS62.csv', 'Method': 'one_class_svm', 'TN': 1663, 'FP': 7, 'FN': 0, 'TP': 10, 'Precision': 0.588, 'Recall': 1.0, 'F1': 0.741}\n",
      "{'File': 'TS62.csv', 'Method': 'max_voting', 'TN': 1669, 'FP': 1, 'FN': 2, 'TP': 8, 'Precision': 0.889, 'Recall': 0.8, 'F1': 0.842}\n",
      "A1Benchmark\\TS63.csv\n",
      "{'File': 'TS63.csv', 'Method': 'mean_plus_standev', 'TN': 1670, 'FP': 0, 'FN': 5, 'TP': 5, 'Precision': 1.0, 'Recall': 0.5, 'F1': 0.667}\n",
      "{'File': 'TS63.csv', 'Method': 'kmeans', 'TN': 1659, 'FP': 11, 'FN': 5, 'TP': 5, 'Precision': 0.312, 'Recall': 0.5, 'F1': 0.385}\n",
      "{'File': 'TS63.csv', 'Method': 'moving_avg', 'TN': 1670, 'FP': 0, 'FN': 9, 'TP': 1, 'Precision': 1.0, 'Recall': 0.1, 'F1': 0.182}\n",
      "{'File': 'TS63.csv', 'Method': 'moving_avg_rolling_std', 'TN': 1670, 'FP': 0, 'FN': 6, 'TP': 4, 'Precision': 1.0, 'Recall': 0.4, 'F1': 0.571}\n",
      "{'File': 'TS63.csv', 'Method': 'isolation_forest', 'TN': 1656, 'FP': 14, 'FN': 7, 'TP': 3, 'Precision': 0.176, 'Recall': 0.3, 'F1': 0.222}\n",
      "{'File': 'TS63.csv', 'Method': 'one_class_svm', 'TN': 1662, 'FP': 8, 'FN': 1, 'TP': 9, 'Precision': 0.529, 'Recall': 0.9, 'F1': 0.667}\n",
      "{'File': 'TS63.csv', 'Method': 'max_voting', 'TN': 1670, 'FP': 0, 'FN': 2, 'TP': 8, 'Precision': 1.0, 'Recall': 0.8, 'F1': 0.889}\n",
      "A1Benchmark\\TS64.csv\n",
      "{'File': 'TS64.csv', 'Method': 'mean_plus_standev', 'TN': 1672, 'FP': 0, 'FN': 3, 'TP': 5, 'Precision': 1.0, 'Recall': 0.625, 'F1': 0.769}\n",
      "{'File': 'TS64.csv', 'Method': 'kmeans', 'TN': 1661, 'FP': 11, 'FN': 3, 'TP': 5, 'Precision': 0.312, 'Recall': 0.625, 'F1': 0.417}\n"
     ]
    },
    {
     "name": "stderr",
     "output_type": "stream",
     "text": [
      "D:\\Users\\Gopal\\Anaconda3\\lib\\site-packages\\sklearn\\metrics\\classification.py:1135: UndefinedMetricWarning: Precision is ill-defined and being set to 0.0 due to no predicted samples.\n",
      "  'precision', 'predicted', average, warn_for)\n",
      "D:\\Users\\Gopal\\Anaconda3\\lib\\site-packages\\sklearn\\metrics\\classification.py:1135: UndefinedMetricWarning: F-score is ill-defined and being set to 0.0 due to no predicted samples.\n",
      "  'precision', 'predicted', average, warn_for)\n"
     ]
    },
    {
     "name": "stdout",
     "output_type": "stream",
     "text": [
      "{'File': 'TS64.csv', 'Method': 'moving_avg', 'TN': 1672, 'FP': 0, 'FN': 8, 'TP': 0, 'Precision': 0.0, 'Recall': 0.0, 'F1': 0.0}\n",
      "{'File': 'TS64.csv', 'Method': 'moving_avg_rolling_std', 'TN': 1668, 'FP': 4, 'FN': 5, 'TP': 3, 'Precision': 0.429, 'Recall': 0.375, 'F1': 0.4}\n",
      "{'File': 'TS64.csv', 'Method': 'isolation_forest', 'TN': 1661, 'FP': 11, 'FN': 2, 'TP': 6, 'Precision': 0.353, 'Recall': 0.75, 'F1': 0.48}\n",
      "{'File': 'TS64.csv', 'Method': 'one_class_svm', 'TN': 1661, 'FP': 11, 'FN': 2, 'TP': 6, 'Precision': 0.353, 'Recall': 0.75, 'F1': 0.48}\n",
      "{'File': 'TS64.csv', 'Method': 'max_voting', 'TN': 1669, 'FP': 3, 'FN': 2, 'TP': 6, 'Precision': 0.667, 'Recall': 0.75, 'F1': 0.706}\n",
      "A1Benchmark\\TS65.csv\n",
      "{'File': 'TS65.csv', 'Method': 'mean_plus_standev', 'TN': 1664, 'FP': 0, 'FN': 10, 'TP': 6, 'Precision': 1.0, 'Recall': 0.375, 'F1': 0.545}\n",
      "{'File': 'TS65.csv', 'Method': 'kmeans', 'TN': 1651, 'FP': 13, 'FN': 13, 'TP': 3, 'Precision': 0.188, 'Recall': 0.188, 'F1': 0.188}\n",
      "{'File': 'TS65.csv', 'Method': 'moving_avg', 'TN': 1664, 'FP': 0, 'FN': 12, 'TP': 4, 'Precision': 1.0, 'Recall': 0.25, 'F1': 0.4}\n",
      "{'File': 'TS65.csv', 'Method': 'moving_avg_rolling_std', 'TN': 1660, 'FP': 4, 'FN': 12, 'TP': 4, 'Precision': 0.5, 'Recall': 0.25, 'F1': 0.333}\n",
      "{'File': 'TS65.csv', 'Method': 'isolation_forest', 'TN': 1656, 'FP': 8, 'FN': 7, 'TP': 9, 'Precision': 0.529, 'Recall': 0.562, 'F1': 0.545}\n",
      "{'File': 'TS65.csv', 'Method': 'one_class_svm', 'TN': 1660, 'FP': 4, 'FN': 3, 'TP': 13, 'Precision': 0.765, 'Recall': 0.812, 'F1': 0.788}\n",
      "{'File': 'TS65.csv', 'Method': 'max_voting', 'TN': 1658, 'FP': 6, 'FN': 6, 'TP': 10, 'Precision': 0.625, 'Recall': 0.625, 'F1': 0.625}\n",
      "A1Benchmark\\TS66.csv\n",
      "{'File': 'TS66.csv', 'Method': 'mean_plus_standev', 'TN': 1675, 'FP': 0, 'FN': 4, 'TP': 1, 'Precision': 1.0, 'Recall': 0.2, 'F1': 0.333}\n",
      "{'File': 'TS66.csv', 'Method': 'kmeans', 'TN': 1661, 'FP': 14, 'FN': 3, 'TP': 2, 'Precision': 0.125, 'Recall': 0.4, 'F1': 0.19}\n",
      "{'File': 'TS66.csv', 'Method': 'moving_avg', 'TN': 1675, 'FP': 0, 'FN': 4, 'TP': 1, 'Precision': 1.0, 'Recall': 0.2, 'F1': 0.333}\n",
      "{'File': 'TS66.csv', 'Method': 'moving_avg_rolling_std', 'TN': 1673, 'FP': 2, 'FN': 3, 'TP': 2, 'Precision': 0.5, 'Recall': 0.4, 'F1': 0.444}\n",
      "{'File': 'TS66.csv', 'Method': 'isolation_forest', 'TN': 1660, 'FP': 15, 'FN': 3, 'TP': 2, 'Precision': 0.118, 'Recall': 0.4, 'F1': 0.182}\n",
      "{'File': 'TS66.csv', 'Method': 'one_class_svm', 'TN': 1662, 'FP': 13, 'FN': 1, 'TP': 4, 'Precision': 0.235, 'Recall': 0.8, 'F1': 0.364}\n",
      "{'File': 'TS66.csv', 'Method': 'max_voting', 'TN': 1669, 'FP': 6, 'FN': 2, 'TP': 3, 'Precision': 0.333, 'Recall': 0.6, 'F1': 0.429}\n",
      "A1Benchmark\\TS67.csv\n",
      "{'File': 'TS67.csv', 'Method': 'mean_plus_standev', 'TN': 1670, 'FP': 0, 'FN': 6, 'TP': 4, 'Precision': 1.0, 'Recall': 0.4, 'F1': 0.571}\n",
      "{'File': 'TS67.csv', 'Method': 'kmeans', 'TN': 1656, 'FP': 14, 'FN': 8, 'TP': 2, 'Precision': 0.125, 'Recall': 0.2, 'F1': 0.154}\n",
      "{'File': 'TS67.csv', 'Method': 'moving_avg', 'TN': 1670, 'FP': 0, 'FN': 8, 'TP': 2, 'Precision': 1.0, 'Recall': 0.2, 'F1': 0.333}\n",
      "{'File': 'TS67.csv', 'Method': 'moving_avg_rolling_std', 'TN': 1670, 'FP': 0, 'FN': 5, 'TP': 5, 'Precision': 1.0, 'Recall': 0.5, 'F1': 0.667}\n",
      "{'File': 'TS67.csv', 'Method': 'isolation_forest', 'TN': 1660, 'FP': 10, 'FN': 3, 'TP': 7, 'Precision': 0.412, 'Recall': 0.7, 'F1': 0.519}\n",
      "{'File': 'TS67.csv', 'Method': 'one_class_svm', 'TN': 1660, 'FP': 10, 'FN': 3, 'TP': 7, 'Precision': 0.412, 'Recall': 0.7, 'F1': 0.519}\n",
      "{'File': 'TS67.csv', 'Method': 'max_voting', 'TN': 1668, 'FP': 2, 'FN': 3, 'TP': 7, 'Precision': 0.778, 'Recall': 0.7, 'F1': 0.737}\n",
      "A1Benchmark\\TS7.csv\n",
      "{'File': 'TS7.csv', 'Method': 'mean_plus_standev', 'TN': 1671, 'FP': 0, 'FN': 8, 'TP': 1, 'Precision': 1.0, 'Recall': 0.111, 'F1': 0.2}\n",
      "{'File': 'TS7.csv', 'Method': 'kmeans', 'TN': 1658, 'FP': 13, 'FN': 6, 'TP': 3, 'Precision': 0.188, 'Recall': 0.333, 'F1': 0.24}\n"
     ]
    },
    {
     "name": "stderr",
     "output_type": "stream",
     "text": [
      "D:\\Users\\Gopal\\Anaconda3\\lib\\site-packages\\sklearn\\metrics\\classification.py:1135: UndefinedMetricWarning: Precision is ill-defined and being set to 0.0 due to no predicted samples.\n",
      "  'precision', 'predicted', average, warn_for)\n",
      "D:\\Users\\Gopal\\Anaconda3\\lib\\site-packages\\sklearn\\metrics\\classification.py:1135: UndefinedMetricWarning: F-score is ill-defined and being set to 0.0 due to no predicted samples.\n",
      "  'precision', 'predicted', average, warn_for)\n"
     ]
    },
    {
     "name": "stdout",
     "output_type": "stream",
     "text": [
      "{'File': 'TS7.csv', 'Method': 'moving_avg', 'TN': 1671, 'FP': 0, 'FN': 9, 'TP': 0, 'Precision': 0.0, 'Recall': 0.0, 'F1': 0.0}\n",
      "{'File': 'TS7.csv', 'Method': 'moving_avg_rolling_std', 'TN': 1668, 'FP': 3, 'FN': 5, 'TP': 4, 'Precision': 0.571, 'Recall': 0.444, 'F1': 0.5}\n",
      "{'File': 'TS7.csv', 'Method': 'isolation_forest', 'TN': 1662, 'FP': 9, 'FN': 1, 'TP': 8, 'Precision': 0.471, 'Recall': 0.889, 'F1': 0.615}\n",
      "{'File': 'TS7.csv', 'Method': 'one_class_svm', 'TN': 1661, 'FP': 10, 'FN': 2, 'TP': 7, 'Precision': 0.412, 'Recall': 0.778, 'F1': 0.538}\n",
      "{'File': 'TS7.csv', 'Method': 'max_voting', 'TN': 1664, 'FP': 7, 'FN': 2, 'TP': 7, 'Precision': 0.5, 'Recall': 0.778, 'F1': 0.609}\n",
      "A1Benchmark\\TS8.csv\n",
      "{'File': 'TS8.csv', 'Method': 'mean_plus_standev', 'TN': 1679, 'FP': 0, 'FN': 0, 'TP': 1, 'Precision': 1.0, 'Recall': 1.0, 'F1': 1.0}\n",
      "{'File': 'TS8.csv', 'Method': 'kmeans', 'TN': 1664, 'FP': 15, 'FN': 0, 'TP': 1, 'Precision': 0.062, 'Recall': 1.0, 'F1': 0.118}\n",
      "{'File': 'TS8.csv', 'Method': 'moving_avg', 'TN': 1679, 'FP': 0, 'FN': 0, 'TP': 1, 'Precision': 1.0, 'Recall': 1.0, 'F1': 1.0}\n",
      "{'File': 'TS8.csv', 'Method': 'moving_avg_rolling_std', 'TN': 1679, 'FP': 0, 'FN': 0, 'TP': 1, 'Precision': 1.0, 'Recall': 1.0, 'F1': 1.0}\n",
      "{'File': 'TS8.csv', 'Method': 'isolation_forest', 'TN': 1662, 'FP': 17, 'FN': 0, 'TP': 1, 'Precision': 0.056, 'Recall': 1.0, 'F1': 0.105}\n",
      "{'File': 'TS8.csv', 'Method': 'one_class_svm', 'TN': 1663, 'FP': 16, 'FN': 0, 'TP': 1, 'Precision': 0.059, 'Recall': 1.0, 'F1': 0.111}\n",
      "{'File': 'TS8.csv', 'Method': 'max_voting', 'TN': 1675, 'FP': 4, 'FN': 0, 'TP': 1, 'Precision': 0.2, 'Recall': 1.0, 'F1': 0.333}\n",
      "A1Benchmark\\TS9.csv\n",
      "{'File': 'TS9.csv', 'Method': 'mean_plus_standev', 'TN': 1668, 'FP': 0, 'FN': 8, 'TP': 4, 'Precision': 1.0, 'Recall': 0.333, 'F1': 0.5}\n",
      "{'File': 'TS9.csv', 'Method': 'kmeans', 'TN': 1655, 'FP': 13, 'FN': 9, 'TP': 3, 'Precision': 0.188, 'Recall': 0.25, 'F1': 0.214}\n"
     ]
    },
    {
     "name": "stderr",
     "output_type": "stream",
     "text": [
      "D:\\Users\\Gopal\\Anaconda3\\lib\\site-packages\\sklearn\\metrics\\classification.py:1135: UndefinedMetricWarning: Precision is ill-defined and being set to 0.0 due to no predicted samples.\n",
      "  'precision', 'predicted', average, warn_for)\n",
      "D:\\Users\\Gopal\\Anaconda3\\lib\\site-packages\\sklearn\\metrics\\classification.py:1135: UndefinedMetricWarning: F-score is ill-defined and being set to 0.0 due to no predicted samples.\n",
      "  'precision', 'predicted', average, warn_for)\n"
     ]
    },
    {
     "name": "stdout",
     "output_type": "stream",
     "text": [
      "{'File': 'TS9.csv', 'Method': 'moving_avg', 'TN': 1668, 'FP': 0, 'FN': 12, 'TP': 0, 'Precision': 0.0, 'Recall': 0.0, 'F1': 0.0}\n",
      "{'File': 'TS9.csv', 'Method': 'moving_avg_rolling_std', 'TN': 1668, 'FP': 0, 'FN': 9, 'TP': 3, 'Precision': 1.0, 'Recall': 0.25, 'F1': 0.4}\n",
      "{'File': 'TS9.csv', 'Method': 'isolation_forest', 'TN': 1660, 'FP': 8, 'FN': 3, 'TP': 9, 'Precision': 0.529, 'Recall': 0.75, 'F1': 0.621}\n",
      "{'File': 'TS9.csv', 'Method': 'one_class_svm', 'TN': 1662, 'FP': 6, 'FN': 1, 'TP': 11, 'Precision': 0.647, 'Recall': 0.917, 'F1': 0.759}\n",
      "{'File': 'TS9.csv', 'Method': 'max_voting', 'TN': 1667, 'FP': 1, 'FN': 2, 'TP': 10, 'Precision': 0.909, 'Recall': 0.833, 'F1': 0.87}\n"
     ]
    }
   ],
   "source": [
    "file_array = [f for f in glob.glob(\"A1Benchmark/*.csv\")]\n",
    "\n",
    "columns = [\"File\", \"Method\", \"TN\", \"FP\", \"FN\", \"TP\", \"Precision\", \"Recall\", \"F1\"]\n",
    "\n",
    "accuracy_df = pd.DataFrame(columns = columns) \n",
    "\n",
    "file_counter = 1\n",
    "\n",
    "for f in file_array:\n",
    "    print(f)\n",
    "    data = feature_engineering(f)\n",
    "    data = detrend(data)\n",
    "\n",
    "    functions = ['mean_plus_standev', 'kmeans', 'moving_avg', 'moving_avg_rolling_std', 'isolation_forest', 'one_class_svm', 'max_voting']\n",
    "    \n",
    "    pdf = backend_pdf.PdfPages(\"Output/\" + f.split(\"\\\\\")[1] + \".pdf\")\n",
    "    fig = plot_data(data, data.loc[data[\"anomaly\"] == 1], \"Original Anomalies\")\n",
    "    pdf.savefig(fig)\n",
    "    plt.close()\n",
    "    \n",
    "    for fun in functions:\n",
    "        func = globals()[fun]\n",
    "        data, anomaly = func(data)\n",
    "\n",
    "        fig = plot_data(data, anomaly, fun)\n",
    "        pdf.savefig(fig)\n",
    "        plt.close()\n",
    "        \n",
    "        row = [f.split(\"\\\\\")[1], fun] + list(np.array(metrics.confusion_matrix(data['anomaly'], data[fun])).flatten())\n",
    "        \n",
    "        precision =  round(metrics.precision_score(data['anomaly'], data[fun]), 3)\n",
    "        row.append(precision)\n",
    "        \n",
    "        recall =  round(metrics.recall_score(data['anomaly'], data[fun]), 3)\n",
    "        row.append(recall)\n",
    "\n",
    "        f1_score =  round(metrics.f1_score(data['anomaly'], data[fun]), 3)\n",
    "        row.append(f1_score)\n",
    "        \n",
    "        row_dict = {accuracy_df.columns[i] : row[i] for i in range(len(row))}\n",
    "        print(row_dict)\n",
    "        accuracy_df = accuracy_df.append(row_dict, ignore_index = True)\n",
    "    \n",
    "    pdf.close()\n",
    "    plt.close('all')\n",
    "    file_counter += 1    \n",
    "   "
   ]
  },
  {
   "cell_type": "code",
   "execution_count": 14,
   "metadata": {},
   "outputs": [
    {
     "name": "stdout",
     "output_type": "stream",
     "text": [
      "         File                    Method    TN  FP  FN  TP  Precision  \\\n",
      "0     TS1.csv         mean_plus_standev  1669   0   6   5      1.000   \n",
      "6     TS1.csv                max_voting  1661   8   2   9      0.529   \n",
      "5     TS1.csv             one_class_svm  1662   7   1  10      0.588   \n",
      "4     TS1.csv          isolation_forest  1659  10   4   7      0.412   \n",
      "0     TS1.csv  twitter_anomaly_detector  1669   0   0  11      1.000   \n",
      "2     TS1.csv                moving_avg  1669   0   7   4      1.000   \n",
      "1     TS1.csv                    kmeans  1661   8   3   8      0.500   \n",
      "3     TS1.csv    moving_avg_rolling_std  1667   2   3   8      0.800   \n",
      "7    TS10.csv         mean_plus_standev  1664   0   4  12      1.000   \n",
      "8    TS10.csv                    kmeans  1661   3   3  13      0.812   \n",
      "9    TS10.csv                moving_avg  1664   0   6  10      1.000   \n",
      "10   TS10.csv    moving_avg_rolling_std  1664   0   2  14      1.000   \n",
      "11   TS10.csv          isolation_forest  1659   5   3  13      0.722   \n",
      "12   TS10.csv             one_class_svm  1663   1   0  16      0.941   \n",
      "13   TS10.csv                max_voting  1664   0   1  15      1.000   \n",
      "1    TS10.csv  twitter_anomaly_detector  1664   0   0  16      1.000   \n",
      "20   TS11.csv                max_voting  1667   1   1  11      0.917   \n",
      "19   TS11.csv             one_class_svm  1663   5   0  12      0.706   \n",
      "2    TS11.csv  twitter_anomaly_detector  1668   0   0  12      1.000   \n",
      "17   TS11.csv    moving_avg_rolling_std  1668   0   2  10      1.000   \n",
      "14   TS11.csv         mean_plus_standev  1668   0   7   5      1.000   \n",
      "15   TS11.csv                    kmeans  1661   7   3   9      0.562   \n",
      "18   TS11.csv          isolation_forest  1662   6   1  11      0.647   \n",
      "16   TS11.csv                moving_avg  1668   0   9   3      1.000   \n",
      "23   TS12.csv                moving_avg  1665   0  14   1      1.000   \n",
      "24   TS12.csv    moving_avg_rolling_std  1657   8  11   4      0.333   \n",
      "25   TS12.csv          isolation_forest  1659   6   4  11      0.647   \n",
      "26   TS12.csv             one_class_svm  1660   5   3  12      0.706   \n",
      "27   TS12.csv                max_voting  1663   2   3  12      0.857   \n",
      "3    TS12.csv  twitter_anomaly_detector  1665   0   0  15      1.000   \n",
      "..        ...                       ...   ...  ..  ..  ..        ...   \n",
      "442  TS67.csv                    kmeans  1656  14   8   2      0.125   \n",
      "444  TS67.csv    moving_avg_rolling_std  1670   0   5   5      1.000   \n",
      "63   TS67.csv  twitter_anomaly_detector  1670   0   0  10      1.000   \n",
      "445  TS67.csv          isolation_forest  1660  10   3   7      0.412   \n",
      "447  TS67.csv                max_voting  1668   2   3   7      0.778   \n",
      "446  TS67.csv             one_class_svm  1660  10   3   7      0.412   \n",
      "448   TS7.csv         mean_plus_standev  1671   0   8   1      1.000   \n",
      "449   TS7.csv                    kmeans  1658  13   6   3      0.188   \n",
      "450   TS7.csv                moving_avg  1671   0   9   0      0.000   \n",
      "451   TS7.csv    moving_avg_rolling_std  1668   3   5   4      0.571   \n",
      "452   TS7.csv          isolation_forest  1662   9   1   8      0.471   \n",
      "453   TS7.csv             one_class_svm  1661  10   2   7      0.412   \n",
      "454   TS7.csv                max_voting  1664   7   2   7      0.500   \n",
      "64    TS7.csv  twitter_anomaly_detector  1671   0   5   4      1.000   \n",
      "461   TS8.csv                max_voting  1675   4   0   1      0.200   \n",
      "460   TS8.csv             one_class_svm  1663  16   0   1      0.059   \n",
      "456   TS8.csv                    kmeans  1664  15   0   1      0.062   \n",
      "458   TS8.csv    moving_avg_rolling_std  1679   0   0   1      1.000   \n",
      "457   TS8.csv                moving_avg  1679   0   0   1      1.000   \n",
      "65    TS8.csv  twitter_anomaly_detector  1679   0   0   1      1.000   \n",
      "459   TS8.csv          isolation_forest  1662  17   0   1      0.056   \n",
      "455   TS8.csv         mean_plus_standev  1679   0   0   1      1.000   \n",
      "467   TS9.csv             one_class_svm  1662   6   1  11      0.647   \n",
      "462   TS9.csv         mean_plus_standev  1668   0   8   4      1.000   \n",
      "463   TS9.csv                    kmeans  1655  13   9   3      0.188   \n",
      "464   TS9.csv                moving_avg  1668   0  12   0      0.000   \n",
      "465   TS9.csv    moving_avg_rolling_std  1668   0   9   3      1.000   \n",
      "466   TS9.csv          isolation_forest  1660   8   3   9      0.529   \n",
      "468   TS9.csv                max_voting  1667   1   2  10      0.909   \n",
      "66    TS9.csv  twitter_anomaly_detector  1668   0   0  12      1.000   \n",
      "\n",
      "       Recall        F1  \n",
      "0    0.455000  0.625000  \n",
      "6    0.818000  0.643000  \n",
      "5    0.909000  0.714000  \n",
      "4    0.636000  0.500000  \n",
      "0    1.000000  1.000000  \n",
      "2    0.364000  0.533000  \n",
      "1    0.727000  0.593000  \n",
      "3    0.727000  0.762000  \n",
      "7    0.750000  0.857000  \n",
      "8    0.812000  0.812000  \n",
      "9    0.625000  0.769000  \n",
      "10   0.875000  0.933000  \n",
      "11   0.812000  0.765000  \n",
      "12   1.000000  0.970000  \n",
      "13   0.938000  0.968000  \n",
      "1    1.000000  1.000000  \n",
      "20   0.917000  0.917000  \n",
      "19   1.000000  0.828000  \n",
      "2    1.000000  1.000000  \n",
      "17   0.833000  0.909000  \n",
      "14   0.417000  0.588000  \n",
      "15   0.750000  0.643000  \n",
      "18   0.917000  0.759000  \n",
      "16   0.250000  0.400000  \n",
      "23   0.067000  0.125000  \n",
      "24   0.267000  0.296000  \n",
      "25   0.733000  0.688000  \n",
      "26   0.800000  0.750000  \n",
      "27   0.800000  0.828000  \n",
      "3    1.000000  1.000000  \n",
      "..        ...       ...  \n",
      "442  0.200000  0.154000  \n",
      "444  0.500000  0.667000  \n",
      "63   1.000000  1.000000  \n",
      "445  0.700000  0.519000  \n",
      "447  0.700000  0.737000  \n",
      "446  0.700000  0.519000  \n",
      "448  0.111000  0.200000  \n",
      "449  0.333000  0.240000  \n",
      "450  0.000000  0.000000  \n",
      "451  0.444000  0.500000  \n",
      "452  0.889000  0.615000  \n",
      "453  0.778000  0.538000  \n",
      "454  0.778000  0.609000  \n",
      "64   0.997017  0.998506  \n",
      "461  1.000000  0.333000  \n",
      "460  1.000000  0.111000  \n",
      "456  1.000000  0.118000  \n",
      "458  1.000000  1.000000  \n",
      "457  1.000000  1.000000  \n",
      "65   1.000000  1.000000  \n",
      "459  1.000000  0.105000  \n",
      "455  1.000000  1.000000  \n",
      "467  0.917000  0.759000  \n",
      "462  0.333000  0.500000  \n",
      "463  0.250000  0.214000  \n",
      "464  0.000000  0.000000  \n",
      "465  0.250000  0.400000  \n",
      "466  0.750000  0.621000  \n",
      "468  0.833000  0.870000  \n",
      "66   1.000000  1.000000  \n",
      "\n",
      "[536 rows x 9 columns]\n"
     ]
    }
   ],
   "source": [
    "anomaly_detection_twitter_df = pd.read_csv(\"FromR.csv\")\n",
    "\n",
    "anomaly_detection_twitter_df = anomaly_detection_twitter_df[columns]\n",
    "\n",
    "accuracy_df = accuracy_df.append(anomaly_detection_twitter_df, sort = True)\n",
    "\n",
    "accuracy_df = accuracy_df.sort_values(['File'])\n",
    "print(accuracy_df[columns])"
   ]
  },
  {
   "cell_type": "code",
   "execution_count": 15,
   "metadata": {},
   "outputs": [],
   "source": [
    "accuracy_df.to_csv('accuracy.csv', sep=',')"
   ]
  },
  {
   "cell_type": "markdown",
   "metadata": {},
   "source": [
    "## Working with Twitter Data "
   ]
  },
  {
   "cell_type": "markdown",
   "metadata": {},
   "source": [
    "### Fetching Tweets "
   ]
  },
  {
   "cell_type": "code",
   "execution_count": 23,
   "metadata": {},
   "outputs": [],
   "source": [
    "hashtag = \"target\".lower()"
   ]
  },
  {
   "cell_type": "code",
   "execution_count": 24,
   "metadata": {},
   "outputs": [],
   "source": [
    "\n",
    "keys_df = pd.read_csv(\"keys.csv\")\n",
    "\n",
    "consumer_key = keys_df.loc[0, \"consumer_key\"]\n",
    "consumer_secret = keys_df.loc[0, \"consumer_secret\"]\n",
    "access_token = keys_df.loc[0, \"access_token\"]\n",
    "access_token_secret = keys_df.loc[0, \"access_token_secret\"]\n",
    "\n",
    "def get_tweets(hashtag):\n",
    "    '''\n",
    "    This function takes in a string and returns a dictionary containing the timestamp and the tweet.\n",
    "    \n",
    "    Args:\n",
    "    -----\n",
    "    hashtag : String\n",
    "    \n",
    "    Returns:\n",
    "    --------\n",
    "    output : dictionary\n",
    "    '''\n",
    "    auth = tweepy.OAuthHandler(consumer_key, consumer_secret)\n",
    "    auth.set_access_token(access_token, access_token_secret)\n",
    "    api = tweepy.API(auth,wait_on_rate_limit=True)\n",
    "\n",
    "    output = {}\n",
    "    count1 = 1\n",
    "    for tweet in tweepy.Cursor(api.search, q = (\"#\"+ str(hashtag)), count=10000 ,lang=\"en\",since=\"2017-04-03\").items():\n",
    "\n",
    "        count1=count1+1\n",
    "        output[tweet.created_at] = tweet.text\n",
    "        if count1 == 10000:\n",
    "            break\n",
    "            \n",
    "    return output"
   ]
  },
  {
   "cell_type": "code",
   "execution_count": 139,
   "metadata": {},
   "outputs": [],
   "source": [
    "def timestamp_tweet(output, hashtag): # Gives CSV file timestamp and tweets\n",
    "    \n",
    "    '''\n",
    "    This function takes in a dictionary and a string and creates a csv file with timestamp and tweets.\n",
    "    \n",
    "    Args:\n",
    "    -----\n",
    "    output : dictionary\n",
    "    hashtag : String\n",
    "    '''\n",
    "        \n",
    "    timestamps = []\n",
    "    tweets = []\n",
    "    for i in output:\n",
    "        timestamps.append(i)\n",
    "        tweets.append(output[i])\n",
    "    df = {\"timestamps\":timestamps, \"tweets\":tweets}\n",
    "    df = pd.DataFrame(df)\n",
    "    df.to_csv(str(hashtag)+'_tweets.csv', sep=',')"
   ]
  },
  {
   "cell_type": "code",
   "execution_count": 140,
   "metadata": {},
   "outputs": [],
   "source": [
    "def timestamp_epoc_count(output):\n",
    "    '''\n",
    "    This function takes in a dictionary and creates a dataframe with time component and the number of the tweets.\n",
    "    \n",
    "    Args:\n",
    "    -----\n",
    "    output : dictionary\n",
    "    \n",
    "    Returns:\n",
    "    --------\n",
    "    dataframe : pandas.DataFrame\n",
    "    '''\n",
    "    \n",
    "    output = OrderedDict(output)\n",
    "    tweet_counts = {}\n",
    "    for i in output.keys():\n",
    "        if i not in tweet_counts:\n",
    "            tweet_counts[i] = 1\n",
    "        else:\n",
    "            tweet_counts[i]+=1\n",
    "   \n",
    "    tweet_counts = OrderedDict(tweet_counts)\n",
    "    dataframe = {\"timestamp\":list(tweet_counts.keys()),\"counts\":[tweet_counts[i] for i in tweet_counts.keys()]}\n",
    "    dataframe = pd.DataFrame(dataframe)\n",
    "\n",
    "    tweet_summation = {}\n",
    "\n",
    "    for i in tweet_counts:    \n",
    "\n",
    "        temp = str(i.month)+\" \"+str(i.day)+\" \"+str(i.hour)\n",
    "        if temp not in tweet_summation:\n",
    "            tweet_summation[temp] = 1\n",
    "        else:\n",
    "            tweet_summation[temp] += 1\n",
    "    tweet_summation = OrderedDict(tweet_summation)\n",
    "    Xaxis = []\n",
    "    count = []\n",
    "    for i in sorted(tweet_summation.keys()):\n",
    "        \n",
    "        Xaxis.append(i)\n",
    "        count.append(tweet_summation[i])\n",
    "    month = []\n",
    "    day = []\n",
    "    hour = []\n",
    "    for timestamp in Xaxis:\n",
    "        \n",
    "        i,j,k = timestamp.split(\" \")\n",
    "        month.append(int(i))\n",
    "        day.append(int(j))\n",
    "        hour.append(int(k))\n",
    "\n",
    "    dataframe = {\"month\":month,\"day\":day,\"hour\":hour,\"value\":count}\n",
    "    dataframe = pd.DataFrame(dataframe)\n",
    "    for index, row in dataframe.iterrows():\n",
    "    \n",
    "        dataframe.loc[index,\"timestamp\"] = dt.datetime(2018,row['month'], row['day'],row[\"hour\"],0,0)\n",
    "        date = dt.datetime(2018,row['month'], row['day'],row[\"hour\"],0,0)\n",
    "        dataframe.loc[index,\"timestamps\"] = int(time.mktime(time.strptime(str(date), '%Y-%m-%d %H:%M:%S')))\n",
    "    return(dataframe)"
   ]
  },
  {
   "cell_type": "code",
   "execution_count": 146,
   "metadata": {},
   "outputs": [
    {
     "name": "stderr",
     "output_type": "stream",
     "text": [
      "D:\\Users\\Gopal\\Anaconda3\\lib\\socket.py:657: ResourceWarning: unclosed <socket.socket fd=3184, family=AddressFamily.AF_INET, type=SocketKind.SOCK_STREAM, proto=0, laddr=('192.168.1.86', 54406), raddr=('104.244.42.194', 443)>\n",
      "  self._sock = None\n"
     ]
    }
   ],
   "source": [
    "output = get_tweets(hashtag)\n",
    "timestamp_tweet(output, hashtag)\n",
    "twitter_data = timestamp_epoc_count(output)\n",
    "twitter_data.head()\n",
    "twitter_data.to_csv(str(hashtag)+'_with_epoch.csv', sep=',')\n",
    "\n",
    "twitter_data.to_csv(\"toR.csv\", sep = \",\")"
   ]
  },
  {
   "cell_type": "markdown",
   "metadata": {},
   "source": [
    "## Feature Engineering in Twitter Dataset "
   ]
  },
  {
   "cell_type": "code",
   "execution_count": 25,
   "metadata": {},
   "outputs": [],
   "source": [
    "def feature_engineering_twitter(filename):\n",
    "    '''\n",
    "    This function takes in the filename and splits the time component into hours, day of the week, and is it a weekday or not. \n",
    "    \n",
    "    Args:\n",
    "    -----\n",
    "    filename : String\n",
    "    \n",
    "    Returns:\n",
    "    --------\n",
    "    df : pandas.DataFrame\n",
    "    '''\n",
    "    \n",
    "    df : pandas.DataFrame\n",
    "    df = pd.read_csv(filename)\n",
    "    df['datetime'] = pd.to_datetime(df['timestamps'] * (10**9))\n",
    "    df = df[['value', 'datetime', 'timestamps']]\n",
    "\n",
    "    df['datetime'] = pd.to_datetime(df['datetime'])\n",
    "    df['hours'] = df['datetime'].dt.hour\n",
    "    df['day'] = df['datetime'].dt.dayofweek\n",
    "    df['isweekday'] = (df['day'] < 5).astype(int)\n",
    "    return df"
   ]
  },
  {
   "cell_type": "markdown",
   "metadata": {},
   "source": [
    "## Implementing in Twitter Dataset "
   ]
  },
  {
   "cell_type": "code",
   "execution_count": 27,
   "metadata": {},
   "outputs": [
    {
     "name": "stdout",
     "output_type": "stream",
     "text": [
      "   value            datetime    timestamps  hours  day  isweekday\n",
      "0     14 2018-11-13 03:00:00  1.542078e+09      3    1          1\n",
      "1     18 2018-11-13 04:00:00  1.542082e+09      4    1          1\n",
      "2     13 2018-11-13 05:00:00  1.542085e+09      5    1          1\n",
      "3     11 2018-11-13 06:00:00  1.542089e+09      6    1          1\n",
      "4      3 2018-11-13 15:00:00  1.542121e+09     15    1          1\n"
     ]
    }
   ],
   "source": [
    "data =  feature_engineering_twitter(str(hashtag)+'_with_epoch.csv')\n",
    "\n",
    "print(data.head())\n",
    "\n",
    "functions = ['mean_plus_standev', 'kmeans', 'cblof_pyod', 'moving_avg', 'moving_avg_rolling_std', 'isolation_forest', 'isolation_forest_pyod', 'one_class_svm', 'one_class_svm_pyod', 'max_voting']\n",
    "\n",
    "pdf = backend_pdf.PdfPages(\"Output/\" + hashtag + \".pdf\")\n",
    "\n",
    "\n",
    "for fun in functions:\n",
    "        func = globals()[fun]\n",
    "        data, anomaly = func(data)\n",
    "        \n",
    "        fig =  plot_data(data, anomaly, fun)\n",
    "        pdf.savefig(fig)\n",
    "        plt.close()\n",
    "\n",
    "pdf.close()\n",
    "plt.close('all')"
   ]
  },
  {
   "cell_type": "code",
   "execution_count": 28,
   "metadata": {},
   "outputs": [],
   "source": [
    "# print(anomaly)\n",
    "\n",
    "twitter_df =  pd.read_csv(str(hashtag)+'_tweets.csv')\n",
    "twitter_df['year'] = pd.to_datetime(twitter_df['timestamps']).dt.year\n",
    "twitter_df['month'] = pd.to_datetime(twitter_df['timestamps']).dt.month\n",
    "twitter_df['day'] = pd.to_datetime(twitter_df['timestamps']).dt.day\n",
    "twitter_df['hour'] = pd.to_datetime(twitter_df['timestamps']).dt.hour\n",
    "\n",
    "# print(twitter_df.head())\n",
    "\n",
    "for index, row in twitter_df.iterrows():\n",
    "    \n",
    "    date = dt.datetime(row['year'], row['month'], row['day'], row['hour'], 0, 0)\n",
    "    twitter_df.loc[index, \"timeepoch\"] = time.mktime(time.strptime(str(date), '%Y-%m-%d %H:%M:%S')) \n",
    "\n",
    "anomaly_ts_list = [int(i) for i in list(anomaly[\"timestamps\"])] \n",
    "\n",
    "anomaly_df = twitter_df[twitter_df[\"timeepoch\"].isin(anomaly_ts_list)]    \n",
    "\n",
    "tweet_list = []\n",
    "existing = []\n",
    "\n",
    "for row in twitter_df[\"timeepoch\"]:\n",
    "    for an in anomaly_ts_list:\n",
    "        if row == an and row not in existing:\n",
    "            tweet_list.append(twitter_df.loc[twitter_df[\"timeepoch\"] == row, \"tweets\"])\n",
    "            existing.append(row)\n",
    "            \n",
    "tweet_list = [str(tweet) for tweet in tweet_list]\n",
    "            \n",
    "\n"
   ]
  },
  {
   "cell_type": "markdown",
   "metadata": {},
   "source": [
    "## Bag of Words "
   ]
  },
  {
   "cell_type": "code",
   "execution_count": 29,
   "metadata": {},
   "outputs": [
    {
     "name": "stdout",
     "output_type": "stream",
     "text": [
      "[('blackfriday', 102), ('deal', 102), ('alert', 102), ('ad', 100), ('get', 98), ('starlinkgam', 97), ('target', 29), ('walmart', 4), ('tgt', 4), ('top', 4)]\n"
     ]
    }
   ],
   "source": [
    "stopwords = ['i', 'me', 'my', 'myself', 'we', 'our', 'ours', 'ourselves', 'you', \"you're\", \"you've\", \"you'll\", \"you'd\", 'your', 'yours', 'yourself', 'yourselves', 'he', 'him', 'his', 'himself', 'she', \"she's\", 'her', 'hers', 'herself', 'it', \"it's\", 'its', 'itself', 'they', 'them', 'their', 'theirs', 'themselves', 'what', 'which', 'who', 'whom', 'this', 'that', \"that'll\", 'these', 'those', 'am', 'is', 'are', 'was', 'were', 'be', 'been', 'being', 'have', 'has', 'had', 'having', 'do', 'does', 'did', 'doing', 'a', 'an', 'the', 'and', 'but', 'if', 'or', 'because', 'as', 'until', 'while', 'of', 'at', 'by', 'for', 'with', 'about', 'against', 'between', 'into', 'through', 'during', 'before', 'after', 'above', 'below', 'to', 'from', 'up', 'down', 'in', 'out', 'on', 'off', 'over', 'under', 'again', 'further', 'then', 'once', 'here', 'there', 'when', 'where', 'why', 'how', 'all', 'any', 'both', 'each', 'few', 'more', 'most', 'other', 'some', 'such', 'no', 'nor', 'not', 'only', 'own', 'same', 'so', 'than', 'too', 'very', 's', 't', 'can', 'will', 'just', 'don', \"don't\", 'should', \"should've\", 'now', 'd', 'll', 'm', 'o', 're', 've', 'y', 'ain', 'aren', \"aren't\", 'couldn', \"couldn't\", 'didn', \"didn't\", 'doesn', \"doesn't\", 'hadn', \"hadn't\", 'hasn', \"hasn't\", 'haven', \"haven't\", 'isn', \"isn't\", 'ma', 'mightn', \"mightn't\", 'mustn', \"mustn't\", 'needn', \"needn't\", 'shan', \"shan't\", 'shouldn', \"shouldn't\", 'wasn', \"wasn't\", 'weren', \"weren't\", 'won', \"won't\", 'wouldn', \"wouldn't\", 'rt', 'a']\n",
    "\n",
    "def remove_punctuation(words):\n",
    "    '''\n",
    "    This function takes in a list of words and remove punctuation from it. \n",
    "    \n",
    "    Args:\n",
    "    -----\n",
    "    words : List\n",
    "    \n",
    "    Returns:\n",
    "    --------\n",
    "    words : List\n",
    "    '''\n",
    "    #The code taken from stack overflow begins\n",
    "    #https://stackoverflow.com/questions/4371231/removing-punctuation-from-python-list-items\n",
    "    words = [''.join(c for c in s if c not in string.punctuation) for s in words]\n",
    "    #The code taken from stack overflow ends\n",
    "    words = [s for s in words if s != '']\n",
    "    return words\n",
    "\n",
    "def remove_emojis(tweet_data):\n",
    "    \n",
    "    '''\n",
    "    This function takes in a list of tweets and remove emoji from it. \n",
    "    \n",
    "    Args:\n",
    "    -----\n",
    "    tweet_data : List\n",
    "    \n",
    "    Returns:\n",
    "    --------\n",
    "    List\n",
    "    '''\n",
    "     #The code taken from stack overflow begins\n",
    "    #https://stackoverflow.com/questions/33404752/removing-emojis-from-a-string-in-python\n",
    "    emoji_pattern = re.compile(\"[\"\n",
    "        u\"\\U0001F600-\\U0001F64F\"  # emoticons\n",
    "        u\"\\U0001F300-\\U0001F5FF\"  # symbols & pictographs\n",
    "        u\"\\U0001F680-\\U0001F6FF\"  # transport & map symbols\n",
    "        u\"\\U0001F1E0-\\U0001F1FF\"  # flags (iOS)\n",
    "                           \"]+\", flags=re.UNICODE)\n",
    "    #The code taken from stack overflow ends\n",
    "    return [emoji_pattern.sub(r'', tweet) for tweet in tweet_data]\n",
    "\n",
    "def driver_words(tweet_data): \n",
    "    \n",
    "    '''\n",
    "    This function takes in a list of tweets and returns ten most common words in tweet. \n",
    "    \n",
    "    Args:\n",
    "    -----\n",
    "    tweet_data : List\n",
    "    \n",
    "    Returns:\n",
    "    --------\n",
    "    List of Tuples\n",
    "    '''\n",
    "    tweet_data = [tweet.lower() for tweet in tweet_data]\n",
    "    temp = ' '.join(tweet_data)\n",
    "    word_list = [word for word in remove_punctuation(temp.split()) if word not in stopwords]\n",
    "    word_count = Counter(word_list)\n",
    "    return word_count.most_common(10)\n",
    "\n",
    "tweet_list = remove_emojis(tweet_list)\n",
    "\n",
    "top =  driver_words(tweet_list)\n",
    "\n",
    "print(top)"
   ]
  },
  {
   "cell_type": "markdown",
   "metadata": {},
   "source": [
    "## Word Cloud "
   ]
  },
  {
   "cell_type": "code",
   "execution_count": 30,
   "metadata": {},
   "outputs": [
    {
     "data": {
      "image/png": "[encoded data removed]",
      "text/plain": [
       "<Figure size 720x720 with 1 Axes>"
      ]
     },
     "metadata": {},
     "output_type": "display_data"
    }
   ],
   "source": [
    "wordcloud_data = [[i[0]] * i[1] for i in top]\n",
    "wordcloud_list = [word for word_list in wordcloud_data for word in word_list]\n",
    "\n",
    "def show_wordcloud(data):\n",
    "\n",
    "    '''\n",
    "    This function takes in a list of words and creates a word cloud. \n",
    "    \n",
    "    Args:\n",
    "    -----\n",
    "    data : List\n",
    "    \n",
    "    '''\n",
    "    \n",
    "    wordcloud = WordCloud(\n",
    "        background_color='white',\n",
    "        stopwords=stopwords,\n",
    "        max_font_size=40, \n",
    "        random_state=0,\n",
    "        collocations=False\n",
    "    ).generate(str(data))\n",
    "\n",
    "    fig = plt.figure(1, figsize = (10, 10))\n",
    "    plt.imshow(wordcloud)\n",
    "    plt.axis(\"off\")\n",
    "    plt.show()\n",
    "\n",
    "show_wordcloud(wordcloud_list)"
   ]
  },
  {
   "cell_type": "markdown",
   "metadata": {},
   "source": [
    "## Multi-dimensional Data"
   ]
  },
  {
   "cell_type": "code",
   "execution_count": 3,
   "metadata": {},
   "outputs": [],
   "source": [
    "df = pd.read_csv(\"creditcard.csv\")\n",
    "y_true = df['Class']\n",
    "df_data = df.drop('Class',1)"
   ]
  },
  {
   "cell_type": "code",
   "execution_count": 4,
   "metadata": {},
   "outputs": [],
   "source": [
    "Modify_std = preprocessing.StandardScaler()\n",
    "data_strans = Modify_std.fit_transform(df_data)\n",
    "Credit_data_for = pd.DataFrame(data_strans)"
   ]
  },
  {
   "cell_type": "markdown",
   "metadata": {},
   "source": [
    "## Isolation Forest"
   ]
  },
  {
   "cell_type": "code",
   "execution_count": 5,
   "metadata": {},
   "outputs": [
    {
     "data": {
      "text/plain": [
       "IsolationForest(bootstrap=False, contamination=0.05, max_features=1.0,\n",
       "        max_samples='auto', n_estimators=100, n_jobs=1, random_state=None,\n",
       "        verbose=0)"
      ]
     },
     "execution_count": 5,
     "metadata": {},
     "output_type": "execute_result"
    }
   ],
   "source": [
    "Isolation_forest_model = ensemble.IsolationForest(contamination = 0.05)\n",
    "Isolation_forest_model.fit(Credit_data_for)"
   ]
  },
  {
   "cell_type": "code",
   "execution_count": 161,
   "metadata": {},
   "outputs": [],
   "source": [
    "scoring = - Isolation_forest_model.decision_function(Credit_data_for)"
   ]
  },
  {
   "cell_type": "code",
   "execution_count": 51,
   "metadata": {},
   "outputs": [],
   "source": [
    "Isola_result = Credit_data_for\n",
    "Isola_result['Isolation_forest'] = pd.Series(Isolation_forest_model.predict(Isola_result))\n",
    "Isola_result['Isolation_forest'] = Isola_result['Isolation_forest'].map( {1: 0, -1: 1} )"
   ]
  },
  {
   "cell_type": "code",
   "execution_count": 162,
   "metadata": {},
   "outputs": [
    {
     "name": "stdout",
     "output_type": "stream",
     "text": [
      "AUC Sore is  0.946\n",
      "F1 Score is  0.086\n",
      "Recall Score is  0.793\n",
      "Precision Score is  0.046\n"
     ]
    }
   ],
   "source": [
    "print(\"AUC Sore is \", round(metrics.roc_auc_score(y_true, scoring), 3))\n",
    "print(\"F1 Score is \", round(metrics.f1_score(y_true, Isola_result['Isolation_forest']), 3))\n",
    "print(\"Recall Score is \", round(metrics.recall_score(y_true, Isola_result['Isolation_forest']), 3))\n",
    "print(\"Precision Score is \", round(metrics.precision_score(y_true, Isola_result['Isolation_forest']), 3))"
   ]
  },
  {
   "cell_type": "markdown",
   "metadata": {},
   "source": [
    "## K Means"
   ]
  },
  {
   "cell_type": "code",
   "execution_count": 59,
   "metadata": {},
   "outputs": [],
   "source": [
    "KMeans_data = pd.DataFrame(Credit_data_for)\n",
    "    \n",
    "distance = get_distance(KMeans_data, cluster.KMeans(n_clusters = 4).fit(KMeans_data))"
   ]
  },
  {
   "cell_type": "code",
   "execution_count": 60,
   "metadata": {},
   "outputs": [],
   "source": [
    "outliers_fraction = 0.05\n",
    "number_of_outliers = int(outliers_fraction * len(distance))"
   ]
  },
  {
   "cell_type": "code",
   "execution_count": 61,
   "metadata": {},
   "outputs": [],
   "source": [
    "threshold = distance.nlargest(number_of_outliers).min()    \n",
    "KMeans_data['kmeans'] = (distance >= threshold).astype(int)"
   ]
  },
  {
   "cell_type": "code",
   "execution_count": 62,
   "metadata": {},
   "outputs": [
    {
     "name": "stdout",
     "output_type": "stream",
     "text": [
      "AUC Sore is  0.056\n",
      "Recall Score is  0.843\n",
      "AUC Sore is  0.897\n"
     ]
    }
   ],
   "source": [
    "print(\"F1 Score is \", round(metrics.f1_score(y_true, KMeans_data['kmeans']), 3))\n",
    "print(\"Recall Score is \", round(metrics.recall_score(y_true, KMeans_data['kmeans']), 3))\n",
    "print(\"AUC Score is \", round(metrics.roc_auc_score(y_true, KMeans_data['kmeans']), 3))"
   ]
  },
  {
   "cell_type": "markdown",
   "metadata": {},
   "source": [
    "## One Class SVM"
   ]
  },
  {
   "cell_type": "code",
   "execution_count": 63,
   "metadata": {},
   "outputs": [],
   "source": [
    "def train_SVM_Model(data_tn):\n",
    "    model = svm.OneClassSVM()\n",
    "    model_built = []\n",
    "    for val in range(5):\n",
    "        data_tn_new = data_tn.sample(50000)\n",
    "        model.fit(data_tn_new)\n",
    "        model_built.append(model)\n",
    "    return model_built"
   ]
  },
  {
   "cell_type": "code",
   "execution_count": 64,
   "metadata": {},
   "outputs": [],
   "source": [
    "def predict_class(data_tn,model_built):\n",
    "    pred = np.zeros(data_tn.shape[0])\n",
    "    for mod in model_built:\n",
    "        pred = np.add(pred,mod.decision_function(data_tn).reshape(data_tn.shape[0],))\n",
    "    divsision = len(data_tn)\n",
    "    pred = (pred * 1.0)\n",
    "    pred = pred/divsision\n",
    "    return pred"
   ]
  },
  {
   "cell_type": "code",
   "execution_count": 65,
   "metadata": {},
   "outputs": [],
   "source": [
    "model_built = train_SVM_Model(Credit_data_for)"
   ]
  },
  {
   "cell_type": "code",
   "execution_count": 66,
   "metadata": {},
   "outputs": [],
   "source": [
    "y_hat = predict_class(Credit_data_for, model_built)"
   ]
  },
  {
   "cell_type": "code",
   "execution_count": 67,
   "metadata": {},
   "outputs": [],
   "source": [
    "y_hat = -1 * y_hat\n",
    "\n",
    "y_hat_class = y_hat.copy()\n",
    "y_hat_class[ y_hat >= np.percentile(y_hat, 95)] = 1\n",
    "y_hat_class[y_hat < np.percentile(y_hat, 95)] = 0"
   ]
  },
  {
   "cell_type": "code",
   "execution_count": 69,
   "metadata": {},
   "outputs": [
    {
     "data": {
      "text/plain": [
       "array([[270505,  13810],\n",
       "       [    61,    431]], dtype=int64)"
      ]
     },
     "execution_count": 69,
     "metadata": {},
     "output_type": "execute_result"
    }
   ],
   "source": [
    "metrics.confusion_matrix(y_true, y_hat_class)"
   ]
  },
  {
   "cell_type": "code",
   "execution_count": 163,
   "metadata": {},
   "outputs": [
    {
     "name": "stdout",
     "output_type": "stream",
     "text": [
      "F1 Score is  0.059\n",
      "Recall Score is  0.876\n",
      "AUC Score is  0.9535741231706674\n"
     ]
    }
   ],
   "source": [
    "print(\"F1 Score is \", round(metrics.f1_score(y_true, y_hat_class), 3))\n",
    "print(\"Recall Score is \", round(metrics.recall_score(y_true,y_hat_class), 3))\n",
    "print(\"AUC Score is \", metrics.roc_auc_score(y_true, y_hat))"
   ]
  }
 ],
 "metadata": {
  "kernelspec": {
   "display_name": "Python 3",
   "language": "python",
   "name": "python3"
  },
  "language_info": {
   "codemirror_mode": {
    "name": "ipython",
    "version": 3
   },
   "file_extension": ".py",
   "mimetype": "text/x-python",
   "name": "python",
   "nbconvert_exporter": "python",
   "pygments_lexer": "ipython3",
   "version": "3.6.5"
  }
 },
 "nbformat": 4,
 "nbformat_minor": 2
}
